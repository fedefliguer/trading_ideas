{
  "nbformat": 4,
  "nbformat_minor": 0,
  "metadata": {
    "colab": {
      "provenance": []
    },
    "kernelspec": {
      "name": "python3",
      "display_name": "Python 3"
    }
  },
  "cells": [
    {
      "cell_type": "markdown",
      "metadata": {
        "id": "HawXcHCv1gZa"
      },
      "source": [
        "1. Instalación y carga de librerías"
      ]
    },
    {
      "cell_type": "code",
      "metadata": {
        "id": "RaXH-ZsM1aJA"
      },
      "source": [
        "!pip install yfinance\n",
        "!pip install pandas==0.25.1\n",
        "!pip install matplotlib"
      ],
      "execution_count": null,
      "outputs": []
    },
    {
      "cell_type": "code",
      "metadata": {
        "id": "A_TrNAJW1f0N"
      },
      "source": [
        "import yfinance as yf\n",
        "import numpy as np\n",
        "import pandas as pd\n",
        "pd.options.mode.chained_assignment = None\n",
        "from datetime import date\n",
        "from datetime import timedelta \n",
        "import matplotlib.pyplot as plt\n",
        "pd.set_option('display.max_columns', 30)\n",
        "pd.set_option('display.max_rows', 5000)\n",
        "pd.set_option('display.width', 1000)"
      ],
      "execution_count": null,
      "outputs": []
    },
    {
      "cell_type": "markdown",
      "metadata": {
        "id": "zsxzlcaO1o0L"
      },
      "source": [
        "2. Definición de función que calcula Histograma MACD"
      ]
    },
    {
      "cell_type": "code",
      "metadata": {
        "id": "FjLCLZoG1pPi"
      },
      "source": [
        "today = date.today()\n",
        "def MACD(ticker, first, last):\n",
        "  global df\n",
        "  global database\n",
        "  df = yf.download(ticker, start=first, end=last)\n",
        "  database = df[['Close', 'Volume', 'High', 'Low']]\n",
        "  database.reset_index(level=0, inplace=True)\n",
        "  database.columns=['ds','y', 'vol', 'high', 'low']\n",
        "  df = df[['Close', 'Volume']]\n",
        "  mean = df['Volume'].mean()\n",
        "  std = df['Volume'].std()\n",
        "  df['Volume'] = (df['Volume'] - mean)/std * 100\n",
        "  df.reset_index(level=0, inplace=True)\n",
        "  df.columns=['ds','y', 'vol']\n",
        "  actualDate = df['ds'].max()\n",
        "  period = 12\n",
        "  sma = df['y'].rolling(period, min_periods=period).mean()\n",
        "  idx_start = sma.isna().sum() + 1 - period\n",
        "  idx_end = idx_start + period\n",
        "  sma = sma[idx_start: idx_end]\n",
        "  rest = df['y'][idx_end:]\n",
        "  ema = pd.concat([sma, rest]).ewm(span=period, adjust=False).mean()\n",
        "  df['exp1'] = ema\n",
        "  period = 26\n",
        "  sma = df['y'].rolling(period, min_periods=period).mean()\n",
        "  idx_start = sma.isna().sum() + 1 - period\n",
        "  idx_end = idx_start + period\n",
        "  sma = sma[idx_start: idx_end]\n",
        "  rest = df['y'][idx_end:]\n",
        "  ema = pd.concat([sma, rest]).ewm(span=period, adjust=False).mean()\n",
        "  df['exp2'] = ema\n",
        "  macd = df['exp1']-df['exp2']\n",
        "  df['macd'] = macd\n",
        "  df['exp3'] = macd.ewm(span=9, adjust=False).mean()\n",
        "  df['histog'] = df['macd'] - df['exp3'] \n",
        "  df = df[['ds', 'y', 'vol', 'histog']].dropna()\n",
        "  return df"
      ],
      "execution_count": null,
      "outputs": []
    },
    {
      "cell_type": "code",
      "metadata": {
        "id": "6bzZeCYd1rjC"
      },
      "source": [
        "def confirmaciones(ticker, first, last, conf):\n",
        "  global df\n",
        "  MACD(ticker, first, last)\n",
        "\n",
        "  lags = max(3, conf) \n",
        "\n",
        "  i = 0\n",
        "  while i <= (lags):\n",
        "      colname = 'h_%sb' % (i)\n",
        "      df[colname] = round(df.histog.shift(i),2)\n",
        "      i = i + 1\n",
        "\n",
        "  i = lags\n",
        "  while i >= 1:\n",
        "      colname = 'h_%sb' % (i-1)\n",
        "      colname_anterior = 'h_%sb' % (i)\n",
        "      colname_fl = 'h_fl_conf_alc_%sb' % (i)\n",
        "      if i == lags:\n",
        "        df[colname_fl] = np.where(((df[colname_anterior] < 0) & (df[colname] > df[colname_anterior])), 1, 0)\n",
        "      else:\n",
        "        df[colname_fl] = np.where(((df[colname_anterior] > 0) & (df[colname] > df[colname_anterior])), 1, 0)\n",
        "      i = i - 1\n",
        "  df['q_conf_alcista']= df.iloc[:, (lags*-1):].sum(axis=1)\n",
        "  df['fl_conf_alcista']= np.where((df['q_conf_alcista'] == lags), 1, 0)\n",
        "\n",
        "  i = lags\n",
        "  while i >= 1:\n",
        "      colname = 'h_%sb' % (i-1)\n",
        "      colname_anterior = 'h_%sb' % (i)\n",
        "      colname_fl = 'h_fl_conf_baj_%sb' % (i)\n",
        "      if i == lags:\n",
        "        df[colname_fl] = np.where(((df[colname_anterior] > 0) & (df[colname] < df[colname_anterior])), 1, 0)\n",
        "      else:\n",
        "        df[colname_fl] = np.where(((df[colname_anterior] < 0) & (df[colname] < df[colname_anterior])), 1, 0)\n",
        "      i = i - 1\n",
        "  df['q_conf_bajista']= df.iloc[:, (lags*-1):].sum(axis=1)\n",
        "  df['fl_conf_bajista']= np.where((df['q_conf_bajista'] == lags), 1, 0)\n",
        "\n",
        "  i = 2\n",
        "  while i >= 1:\n",
        "      colname = 'h_%sb' % (i-1)\n",
        "      colname_anterior = 'h_%sb' % (i)\n",
        "      colname_fl = 'h_fl_rev_alc_%sb' % (i)\n",
        "      df[colname_fl] = np.where((df['histog'] < 0) & (df[colname] > df[colname_anterior]), 1, 0)\n",
        "      i = i - 1\n",
        "  df['q_alcista']= df.iloc[:, (2*-1):].sum(axis=1)\n",
        "  df['fl_rev_alcista']= np.where((df['q_alcista'] == 2), 1, 0)\n",
        "\n",
        "  i = 3\n",
        "  while i >= 1:\n",
        "      colname = 'h_%sb' % (i-1)\n",
        "      colname_anterior = 'h_%sb' % (i)\n",
        "      colname_fl = 'h_fl_rev_baj_%sb' % (i)\n",
        "      df[colname_fl] = np.where((df['histog'] > 0) & (df[colname] < df[colname_anterior]), 1, 0)\n",
        "      i = i - 1\n",
        "  df['q_bajista']= df.iloc[:, (3*-1):].sum(axis=1)\n",
        "  df['fl_rev_bajista']= np.where((df['q_bajista'] == 3), 1, 0)\n",
        "  df['y_1f'] = round(df.y.shift(-1),2)\n",
        "  df = df[['ds', 'y_1f', 'histog', 'fl_conf_alcista', 'fl_conf_bajista', 'fl_rev_alcista', 'fl_rev_bajista']]\n",
        "  df = df[(df.fl_conf_alcista == 1)|(df.fl_conf_bajista == 1)|(df.fl_rev_alcista == 1)|(df.fl_rev_bajista == 1)]\n",
        "  df.loc[(df['fl_conf_alcista'] == 1), 'señal'] = 'confirmacion_alcista'\n",
        "  df.loc[(df['fl_conf_bajista'] == 1), 'señal'] = 'confirmacion_bajista'\n",
        "  df.loc[(df['fl_rev_alcista'] == 1), 'señal'] = 'reversion_alcista'\n",
        "  df.loc[(df['fl_rev_bajista'] == 1), 'señal'] = 'reversion_bajista'\n",
        "  df[\"señal_anterior\"] = df.señal.shift(1)\n",
        "  df[\"precio_señal_anterior\"] = df.y_1f.shift(1)\n",
        "  df = df[(df.señal_anterior == 'confirmacion_alcista')]\n",
        "\n",
        "  df['resultado']= (df.y_1f*0.993)/(df.precio_señal_anterior*1.007) - 1"
      ],
      "execution_count": null,
      "outputs": []
    },
    {
      "cell_type": "code",
      "metadata": {
        "id": "9EAuNnVy2rxE",
        "colab": {
          "base_uri": "https://localhost:8080/",
          "height": 646
        },
        "outputId": "789abd84-c957-4b9c-d159-433b6e640946"
      },
      "source": [
        "full = pd.DataFrame()\n",
        "for ticker in (\"ALUA.BA\",\n",
        "\"CRES.BA\",\n",
        "\"EDN.BA\",\n",
        "\"GGAL.BA\",\n",
        "\"MIRG.BA\",\n",
        "\"PAMP.BA\",\n",
        "\"SUPV.BA\",\n",
        "\"TECO2.BA\",\n",
        "\"TGSU2.BA\",\n",
        "\"YPFD.BA\"):\n",
        "  confirmaciones(ticker, first = \"2017-11-01\", last = \"2020-04-01\", conf=1)\n",
        "  full = full.append(df, ignore_index=True)\n",
        "\n",
        "full['year'] = pd.DatetimeIndex(full['ds']).year\n",
        "full['month'] = pd.DatetimeIndex(full['ds']).month\n",
        "\n",
        "full = (full.groupby(['year', 'month']).agg({'señal_anterior':'count',\n",
        "                                             'resultado':'mean'\n",
        "                                        }))\n",
        "print(full)"
      ],
      "execution_count": null,
      "outputs": [
        {
          "output_type": "stream",
          "text": [
            "[*********************100%***********************]  1 of 1 completed\n",
            "[*********************100%***********************]  1 of 1 completed\n",
            "[*********************100%***********************]  1 of 1 completed\n",
            "[*********************100%***********************]  1 of 1 completed\n",
            "[*********************100%***********************]  1 of 1 completed\n",
            "[*********************100%***********************]  1 of 1 completed\n",
            "[*********************100%***********************]  1 of 1 completed\n",
            "[*********************100%***********************]  1 of 1 completed\n",
            "[*********************100%***********************]  1 of 1 completed\n",
            "[*********************100%***********************]  1 of 1 completed\n",
            "            señal_anterior  resultado\n",
            "year month                           \n",
            "2018 1                   4   0.104585\n",
            "     2                   1  -0.089700\n",
            "     3                   5  -0.046115\n",
            "     4                   7  -0.033668\n",
            "     5                   7   0.010419\n",
            "     6                   6  -0.077893\n",
            "     7                   4  -0.018978\n",
            "     8                   4   0.027253\n",
            "     9                   8   0.068321\n",
            "     10                  1  -0.047906\n",
            "     11                 11  -0.058937\n",
            "     12                  4  -0.062452\n",
            "2019 1                   7   0.004935\n",
            "     2                   3   0.047844\n",
            "     3                   1  -0.023997\n",
            "     4                   1   0.059805\n",
            "     5                   8  -0.012203\n",
            "     6                   6  -0.004705\n",
            "     7                   4  -0.064690\n",
            "     8                   3  -0.176330\n",
            "     9                  10   0.030330\n",
            "     10                  2   0.030677\n",
            "     11                  4  -0.097585\n",
            "     12                  6   0.012872\n",
            "2020 1                   4   0.046722\n"
          ],
          "name": "stdout"
        }
      ]
    }
  ]
}