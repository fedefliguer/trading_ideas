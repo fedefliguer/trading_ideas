{
 "cells": [
  {
   "cell_type": "markdown",
   "metadata": {},
   "source": [
    "## Librerías y acceso"
   ]
  },
  {
   "cell_type": "code",
   "execution_count": 1,
   "metadata": {},
   "outputs": [],
   "source": [
    "import pandas as pd\n",
    "import requests\n",
    "import json\n",
    "import datetime\n",
    "import finnhub\n",
    "import yfinance as yf\n",
    "import numpy as np\n",
    "import random\n",
    "\n",
    "FH_token = ''\n",
    "finnhub_client = finnhub.Client(api_key=FH_token)"
   ]
  },
  {
   "cell_type": "markdown",
   "metadata": {},
   "source": [
    "## Tickers y sectores"
   ]
  },
  {
   "cell_type": "markdown",
   "metadata": {},
   "source": [
    "Voy a quedarme con un único sector, y tomar 10 activos para comparar rendimientos con el de ese promedio. Buscamos activos que les vaya mejor que otros similares por sus fundamentos como empresa."
   ]
  },
  {
   "cell_type": "code",
   "execution_count": 2,
   "metadata": {},
   "outputs": [],
   "source": [
    "import requests\n",
    "from bs4 import BeautifulSoup\n",
    "table = BeautifulSoup(requests.get('http://en.wikipedia.org/wiki/List_of_S%26P_500_companies').text, 'lxml').find('table', {'class': 'wikitable sortable'})\n",
    "tickers = []\n",
    "sectors = []\n",
    "for row in table.findAll('tr')[1:]:\n",
    "        ticker = row.findAll('td')[0].text\n",
    "        sector = row.findAll('td')[3].text\n",
    "        ticker = ticker[:-1]\n",
    "        sectors.append(sector)\n",
    "        tickers.append(ticker)\n",
    "tickers_sp500 = tickers\n",
    "tickers = pd.DataFrame({'Ticker': tickers, 'Sector': sectors})\n",
    "tickers_sectors_sample10 = list(tickers[tickers.Sector == random.sample(sectors, 1)[0]].sample(10)['Ticker'])"
   ]
  },
  {
   "cell_type": "markdown",
   "metadata": {},
   "source": [
    "# Descarga data de balances"
   ]
  },
  {
   "cell_type": "code",
   "execution_count": 3,
   "metadata": {},
   "outputs": [
    {
     "name": "stdout",
     "output_type": "stream",
     "text": [
      "ETN\n",
      "EXPD\n",
      "CMI\n",
      "LDOS\n",
      "PNR\n",
      "HON\n",
      "GE\n",
      "GD\n",
      "IEX\n",
      "SWK\n"
     ]
    }
   ],
   "source": [
    "full_data_balances = pd.DataFrame()\n",
    "for t in tickers_sectors_sample10:\n",
    "    print(t)\n",
    "    js = finnhub_client.company_basic_financials(t, 'all')\n",
    "    full_data_ticker = pd.DataFrame()\n",
    "    try:\n",
    "        series = js['series']['quarterly']\n",
    "        for i in series.keys():\n",
    "            data_serie = pd.DataFrame(series[i])\n",
    "            if len(data_serie) == 0:\n",
    "                pass\n",
    "            else:\n",
    "                data_serie.columns = ['fecha_fin_cuatrimestre_fiscal', i]\n",
    "                if len(full_data_ticker) == 0:\n",
    "                    full_data_ticker = data_serie.copy()\n",
    "                else:\n",
    "                    full_data_ticker = pd.merge(full_data_ticker, data_serie, how='outer', on=['fecha_fin_cuatrimestre_fiscal'])\n",
    "        full_data_ticker.insert(0,'ticker',t)\n",
    "        full_data_balances = pd.concat([full_data_balances, full_data_ticker])\n",
    "    except:\n",
    "        pass\n",
    "full_data_balances = full_data_balances.sort_values(by=['ticker', 'fecha_fin_cuatrimestre_fiscal']).reset_index(drop=True)\n",
    "full_data_balances.insert(0,'fecha_aproximada_presentacion',pd.to_datetime(full_data_balances['fecha_fin_cuatrimestre_fiscal']) + datetime.timedelta(days=45))"
   ]
  },
  {
   "cell_type": "markdown",
   "metadata": {},
   "source": [
    "## Descarga de data de precios y add target"
   ]
  },
  {
   "cell_type": "code",
   "execution_count": 4,
   "metadata": {},
   "outputs": [
    {
     "name": "stdout",
     "output_type": "stream",
     "text": [
      "[*********************100%***********************]  10 of 10 completed\n"
     ]
    }
   ],
   "source": [
    "full_data = full_data_balances.copy()\n",
    "tickers_efectivos = list(full_data.ticker.unique())\n",
    "df = yf.download(tickers_efectivos, start=full_data.fecha_aproximada_presentacion.min(), end=full_data.fecha_aproximada_presentacion.max()).droplevel(level=0, axis=1)\n",
    "df = df.iloc[:, 0:len(tickers_efectivos)].pct_change()\n",
    "df['BENCHMARK'] = df.iloc[:, 0:len(tickers_efectivos)].median(axis=1)\n",
    "df_backup = df.copy()\n",
    "for col in df.iloc[:, 0:len(tickers_efectivos)].columns:\n",
    "    df[col] = df[col] - df['BENCHMARK']\n",
    "    \n",
    "# Target\n",
    "full_data['fecha_aproximada_siguiente_presentacion'] = full_data.fecha_aproximada_presentacion.shift(-1)\n",
    "full_data = full_data[full_data['fecha_aproximada_siguiente_presentacion'] > full_data['fecha_aproximada_presentacion']].reset_index(drop=True)\n",
    "serie_fi = full_data.fecha_aproximada_presentacion.values\n",
    "serie_ff = full_data.fecha_aproximada_siguiente_presentacion.values\n",
    "serie_t = full_data.ticker.values\n",
    "targets = []\n",
    "for fi, ff, t in zip(serie_fi, serie_ff, serie_t):\n",
    "    ultima_fila = ((df.loc[fi:ff, t]+1).cumprod() - 1)\n",
    "    try:\n",
    "        targets.append(ultima_fila[-1])\n",
    "    except:\n",
    "        targets.append(np.nan)\n",
    "        \n",
    "full_data['target'] = targets"
   ]
  },
  {
   "cell_type": "markdown",
   "metadata": {},
   "source": [
    "## Análisis de relaciones"
   ]
  },
  {
   "cell_type": "markdown",
   "metadata": {},
   "source": [
    "### Relación de la variable nominal con el target"
   ]
  },
  {
   "cell_type": "code",
   "execution_count": 5,
   "metadata": {},
   "outputs": [
    {
     "name": "stdout",
     "output_type": "stream",
     "text": [
      "bookValue                  -0.103098\n",
      "cashRatio                  -0.006486\n",
      "currentRatio                0.064705\n",
      "ebitPerShare               -0.075917\n",
      "eps                        -0.077934\n",
      "ev                         -0.106464\n",
      "fcfMargin                  -0.040478\n",
      "fcfPerShareTTM             -0.016551\n",
      "grossMargin                -0.045623\n",
      "longtermDebtTotalAsset     -0.043411\n",
      "longtermDebtTotalCapital   -0.035159\n",
      "longtermDebtTotalEquity    -0.067729\n",
      "netDebtToTotalCapital      -0.052686\n",
      "netDebtToTotalEquity       -0.082596\n",
      "netMargin                  -0.111250\n",
      "operatingMargin            -0.104093\n",
      "pb                         -0.049127\n",
      "peTTM                      -0.044098\n",
      "pfcfTTM                    -0.039340\n",
      "pretaxMargin               -0.093776\n",
      "psTTM                      -0.096117\n",
      "quickRatio                  0.050570\n",
      "roaTTM                      0.041746\n",
      "roeTTM                      0.013319\n",
      "roicTTM                     0.053663\n",
      "rotcTTM                     0.059045\n",
      "salesPerShare              -0.031555\n",
      "sgaToSale                   0.045633\n",
      "totalDebtToEquity          -0.087751\n",
      "totalDebtToTotalAsset      -0.079664\n",
      "totalDebtToTotalCapital    -0.077328\n",
      "totalRatio                  0.020297\n",
      "target                      1.000000\n",
      "dtype: float64\n"
     ]
    }
   ],
   "source": [
    "print(full_data.corrwith(full_data['target']))"
   ]
  },
  {
   "cell_type": "markdown",
   "metadata": {},
   "source": [
    "### Relación de la variación de la variable con respecto al período pasado con el target"
   ]
  },
  {
   "cell_type": "code",
   "execution_count": 6,
   "metadata": {},
   "outputs": [
    {
     "name": "stdout",
     "output_type": "stream",
     "text": [
      "bookValue                   0.010849\n",
      "cashRatio                   0.044392\n",
      "currentRatio               -0.037425\n",
      "ebitPerShare               -0.024988\n",
      "eps                        -0.050122\n",
      "ev                          0.052002\n",
      "fcfMargin                   0.051232\n",
      "fcfPerShareTTM              0.041841\n",
      "grossMargin                -0.014555\n",
      "longtermDebtTotalAsset     -0.002236\n",
      "longtermDebtTotalCapital    0.014061\n",
      "longtermDebtTotalEquity     0.029007\n",
      "netDebtToTotalCapital       0.031217\n",
      "netDebtToTotalEquity        0.037077\n",
      "netMargin                  -0.048083\n",
      "operatingMargin            -0.020389\n",
      "pb                          0.023333\n",
      "peTTM                       0.019783\n",
      "pfcfTTM                    -0.021151\n",
      "pretaxMargin                0.007061\n",
      "psTTM                      -0.005119\n",
      "quickRatio                  0.005601\n",
      "roaTTM                     -0.040028\n",
      "roeTTM                     -0.047248\n",
      "roicTTM                    -0.038341\n",
      "rotcTTM                    -0.028983\n",
      "salesPerShare              -0.010916\n",
      "sgaToSale                   0.016143\n",
      "totalDebtToEquity                NaN\n",
      "totalDebtToTotalAsset            NaN\n",
      "totalDebtToTotalCapital          NaN\n",
      "totalRatio                 -0.046802\n",
      "target                      1.000000\n",
      "dtype: float64\n"
     ]
    }
   ],
   "source": [
    "full_data_variations = full_data.iloc[:, 3:-2].pct_change()\n",
    "full_data_variations['ticker'] = full_data['ticker']\n",
    "full_data_variations['target'] = full_data['target']\n",
    "full_data_variations[full_data_variations.ticker == full_data_variations.ticker.shift(1)]\n",
    "print(full_data_variations.corrwith(full_data_variations['target']))"
   ]
  }
 ],
 "metadata": {
  "kernelspec": {
   "display_name": "Python 3",
   "language": "python",
   "name": "python3"
  },
  "language_info": {
   "codemirror_mode": {
    "name": "ipython",
    "version": 3
   },
   "file_extension": ".py",
   "mimetype": "text/x-python",
   "name": "python",
   "nbconvert_exporter": "python",
   "pygments_lexer": "ipython3",
   "version": "3.8.5"
  }
 },
 "nbformat": 4,
 "nbformat_minor": 4
}
