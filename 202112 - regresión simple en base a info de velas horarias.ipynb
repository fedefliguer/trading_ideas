{
  "nbformat": 4,
  "nbformat_minor": 0,
  "metadata": {
    "colab": {
      "provenance": []
    },
    "kernelspec": {
      "name": "python3",
      "display_name": "Python 3"
    },
    "language_info": {
      "name": "python"
    }
  },
  "cells": [
    {
      "cell_type": "code",
      "execution_count": null,
      "metadata": {
        "colab": {
          "base_uri": "https://localhost:8080/"
        },
        "id": "mM9hiSI2jrV-",
        "outputId": "b3c277c3-9c28-4531-c1a5-184fc19340cb"
      },
      "outputs": [
        {
          "output_type": "stream",
          "name": "stdout",
          "text": [
            "Collecting yfinance\n",
            "  Downloading yfinance-0.1.67-py2.py3-none-any.whl (25 kB)\n",
            "Requirement already satisfied: pandas>=0.24 in /usr/local/lib/python3.7/dist-packages (from yfinance) (1.1.5)\n",
            "Collecting lxml>=4.5.1\n",
            "  Downloading lxml-4.7.1-cp37-cp37m-manylinux_2_17_x86_64.manylinux2014_x86_64.manylinux_2_24_x86_64.whl (6.4 MB)\n",
            "\u001b[K     |████████████████████████████████| 6.4 MB 11.1 MB/s \n",
            "\u001b[?25hRequirement already satisfied: numpy>=1.15 in /usr/local/lib/python3.7/dist-packages (from yfinance) (1.19.5)\n",
            "Requirement already satisfied: requests>=2.20 in /usr/local/lib/python3.7/dist-packages (from yfinance) (2.23.0)\n",
            "Requirement already satisfied: multitasking>=0.0.7 in /usr/local/lib/python3.7/dist-packages (from yfinance) (0.0.10)\n",
            "Requirement already satisfied: python-dateutil>=2.7.3 in /usr/local/lib/python3.7/dist-packages (from pandas>=0.24->yfinance) (2.8.2)\n",
            "Requirement already satisfied: pytz>=2017.2 in /usr/local/lib/python3.7/dist-packages (from pandas>=0.24->yfinance) (2018.9)\n",
            "Requirement already satisfied: six>=1.5 in /usr/local/lib/python3.7/dist-packages (from python-dateutil>=2.7.3->pandas>=0.24->yfinance) (1.15.0)\n",
            "Requirement already satisfied: urllib3!=1.25.0,!=1.25.1,<1.26,>=1.21.1 in /usr/local/lib/python3.7/dist-packages (from requests>=2.20->yfinance) (1.24.3)\n",
            "Requirement already satisfied: chardet<4,>=3.0.2 in /usr/local/lib/python3.7/dist-packages (from requests>=2.20->yfinance) (3.0.4)\n",
            "Requirement already satisfied: certifi>=2017.4.17 in /usr/local/lib/python3.7/dist-packages (from requests>=2.20->yfinance) (2021.10.8)\n",
            "Requirement already satisfied: idna<3,>=2.5 in /usr/local/lib/python3.7/dist-packages (from requests>=2.20->yfinance) (2.10)\n",
            "Installing collected packages: lxml, yfinance\n",
            "  Attempting uninstall: lxml\n",
            "    Found existing installation: lxml 4.2.6\n",
            "    Uninstalling lxml-4.2.6:\n",
            "      Successfully uninstalled lxml-4.2.6\n",
            "Successfully installed lxml-4.7.1 yfinance-0.1.67\n"
          ]
        }
      ],
      "source": [
        "!pip install yfinance"
      ]
    },
    {
      "cell_type": "code",
      "source": [
        "import yfinance as yf\n",
        "import pandas as pd\n",
        "import numpy as np\n",
        "\n",
        "df_global = pd.DataFrame()\n",
        "for t in ['YPFD.BA', 'GGAL.BA', 'PAMP.BA', 'TGNO4.BA', 'SUPV.BA']:\n",
        "  data = yf.download(  # or pdr.get_data_yahoo(...\n",
        "          tickers = t,\n",
        "          period = \"ytd\",\n",
        "          interval = \"1h\",\n",
        "          group_by = 'ticker',\n",
        "          auto_adjust = True,\n",
        "          prepost = True,\n",
        "          threads = True,\n",
        "          proxy = None\n",
        "      )\n",
        "\n",
        "  data['Date'] = data.index\n",
        "  data['Ticker'] = t\n",
        "  data['Close_-3hs'] = data.Close.shift(3)\n",
        "  data['Close_+3hs'] = data.Close.shift(-3)\n",
        "  data['first_3_hours'] = np.where(data['Close'] > data['Close_-3hs'] * 1.01, 'A', np.where(data['Close'] > data['Close_-3hs'], 'M', 'B'))\n",
        "  data['last_3_hours'] = np.where(data['Close'] * 1.01 < data['Close_+3hs'], 'A', np.where(data['Close'] < data['Close_+3hs'], 'M', 'B'))\n",
        "  #data[data.Date.dt.hour == 13].dropna().groupby(['first_3_hours', 'last_3_hours']).size().unstack()\n",
        "  data['Amplitud_hora'] = (data['High'] - data['Low'])/data['Close']\n",
        "  data['Volumen_Ascendente'] = np.where(data['Volume'] > data['Volume'].shift(1), 1, 0)\n",
        "  data['Variacion_hora'] = data.Close / data.Close.shift(1) - 1\n",
        "  data['Amplitud_hora_1l'] = data['Amplitud_hora'].shift(1)\n",
        "  data['Amplitud_hora_2l'] = data['Amplitud_hora'].shift(2)\n",
        "  data['Variacion_hora_1l'] = data['Variacion_hora'].shift(1)\n",
        "  data['Variacion_hora_2l'] = data['Variacion_hora'].shift(2)\n",
        "  data['Target'] = np.where(data['last_3_hours'] == 'A', 1, 0)\n",
        "  data = data[(data.Date.dt.hour == 13)&(data.first_3_hours == 'A')].dropna().reset_index(drop=True)[['Ticker', 'Date', 'Amplitud_hora','Volumen_Ascendente','Variacion_hora','Amplitud_hora_1l','Amplitud_hora_2l','Variacion_hora_1l','Variacion_hora_2l', 'Target']]\n",
        "  df_global = df_global.append(data, ignore_index=True)"
      ],
      "metadata": {
        "colab": {
          "base_uri": "https://localhost:8080/"
        },
        "id": "VDc3LHW0juWZ",
        "outputId": "b2e88315-fd69-4c02-ff86-cf1cb88635f9"
      },
      "execution_count": null,
      "outputs": [
        {
          "output_type": "stream",
          "name": "stdout",
          "text": [
            "[*********************100%***********************]  1 of 1 completed\n",
            "[*********************100%***********************]  1 of 1 completed\n",
            "[*********************100%***********************]  1 of 1 completed\n",
            "[*********************100%***********************]  1 of 1 completed\n",
            "[*********************100%***********************]  1 of 1 completed\n"
          ]
        }
      ]
    },
    {
      "cell_type": "code",
      "source": [
        "X = data[['Amplitud_hora','Volumen_Ascendente','Variacion_hora','Amplitud_hora_1l','Amplitud_hora_2l','Variacion_hora_1l','Variacion_hora_2l']]\n",
        "y = data.Target\n",
        "from sklearn.model_selection import train_test_split\n",
        "x_training_data, x_test_data, y_training_data, y_test_data = train_test_split(X, y, test_size = 0.3)\n",
        "from sklearn.linear_model import LogisticRegression\n",
        "model = LogisticRegression()\n",
        "model.fit(x_training_data, y_training_data)\n",
        "predictions = model.predict(x_test_data)\n",
        "from sklearn.metrics import confusion_matrix\n",
        "print(confusion_matrix(y_test_data, predictions))\n"
      ],
      "metadata": {
        "colab": {
          "base_uri": "https://localhost:8080/"
        },
        "id": "mlxAGAFSrjiB",
        "outputId": "29163524-c38a-463e-8367-d879f375c916"
      },
      "execution_count": null,
      "outputs": [
        {
          "output_type": "stream",
          "name": "stdout",
          "text": [
            "[[16  0]\n",
            " [ 7  0]]\n"
          ]
        }
      ]
    }
  ]
}