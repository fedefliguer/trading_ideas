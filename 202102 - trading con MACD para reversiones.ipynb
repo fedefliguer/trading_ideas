{
  "nbformat": 4,
  "nbformat_minor": 0,
  "metadata": {
    "colab": {
      "provenance": []
    },
    "kernelspec": {
      "name": "python3",
      "display_name": "Python 3"
    }
  },
  "cells": [
    {
      "cell_type": "markdown",
      "metadata": {
        "id": "nm4XsLAcG2Sv"
      },
      "source": [
        "## Instala paquetes importa librerías"
      ]
    },
    {
      "cell_type": "code",
      "metadata": {
        "id": "yNDX32YsG-jZ",
        "colab": {
          "base_uri": "https://localhost:8080/"
        },
        "outputId": "f173193c-042e-47a8-9f60-e2ce6bdc76f3"
      },
      "source": [
        "!pip install yfinance\n",
        "!pip install matplotlib"
      ],
      "execution_count": null,
      "outputs": [
        {
          "output_type": "stream",
          "text": [
            "Collecting yfinance\n",
            "  Downloading https://files.pythonhosted.org/packages/7a/e8/b9d7104d3a4bf39924799067592d9e59119fcfc900a425a12e80a3123ec8/yfinance-0.1.55.tar.gz\n",
            "Requirement already satisfied: pandas>=0.24 in /usr/local/lib/python3.6/dist-packages (from yfinance) (1.1.5)\n",
            "Requirement already satisfied: numpy>=1.15 in /usr/local/lib/python3.6/dist-packages (from yfinance) (1.19.5)\n",
            "Requirement already satisfied: requests>=2.20 in /usr/local/lib/python3.6/dist-packages (from yfinance) (2.23.0)\n",
            "Requirement already satisfied: multitasking>=0.0.7 in /usr/local/lib/python3.6/dist-packages (from yfinance) (0.0.9)\n",
            "Collecting lxml>=4.5.1\n",
            "\u001b[?25l  Downloading https://files.pythonhosted.org/packages/bd/78/56a7c88a57d0d14945472535d0df9fb4bbad7d34ede658ec7961635c790e/lxml-4.6.2-cp36-cp36m-manylinux1_x86_64.whl (5.5MB)\n",
            "\u001b[K     |████████████████████████████████| 5.5MB 6.9MB/s \n",
            "\u001b[?25hRequirement already satisfied: python-dateutil>=2.7.3 in /usr/local/lib/python3.6/dist-packages (from pandas>=0.24->yfinance) (2.8.1)\n",
            "Requirement already satisfied: pytz>=2017.2 in /usr/local/lib/python3.6/dist-packages (from pandas>=0.24->yfinance) (2018.9)\n",
            "Requirement already satisfied: urllib3!=1.25.0,!=1.25.1,<1.26,>=1.21.1 in /usr/local/lib/python3.6/dist-packages (from requests>=2.20->yfinance) (1.24.3)\n",
            "Requirement already satisfied: certifi>=2017.4.17 in /usr/local/lib/python3.6/dist-packages (from requests>=2.20->yfinance) (2020.12.5)\n",
            "Requirement already satisfied: idna<3,>=2.5 in /usr/local/lib/python3.6/dist-packages (from requests>=2.20->yfinance) (2.10)\n",
            "Requirement already satisfied: chardet<4,>=3.0.2 in /usr/local/lib/python3.6/dist-packages (from requests>=2.20->yfinance) (3.0.4)\n",
            "Requirement already satisfied: six>=1.5 in /usr/local/lib/python3.6/dist-packages (from python-dateutil>=2.7.3->pandas>=0.24->yfinance) (1.15.0)\n",
            "Building wheels for collected packages: yfinance\n",
            "  Building wheel for yfinance (setup.py) ... \u001b[?25l\u001b[?25hdone\n",
            "  Created wheel for yfinance: filename=yfinance-0.1.55-py2.py3-none-any.whl size=22616 sha256=dbdd29da17253bf0658f8eadaf66d080410389105aa2d122cc37a53ec18e7c79\n",
            "  Stored in directory: /root/.cache/pip/wheels/04/98/cc/2702a4242d60bdc14f48b4557c427ded1fe92aedf257d4565c\n",
            "Successfully built yfinance\n",
            "Installing collected packages: lxml, yfinance\n",
            "  Found existing installation: lxml 4.2.6\n",
            "    Uninstalling lxml-4.2.6:\n",
            "      Successfully uninstalled lxml-4.2.6\n",
            "Successfully installed lxml-4.6.2 yfinance-0.1.55\n",
            "Requirement already satisfied: matplotlib in /usr/local/lib/python3.6/dist-packages (3.2.2)\n",
            "Requirement already satisfied: numpy>=1.11 in /usr/local/lib/python3.6/dist-packages (from matplotlib) (1.19.5)\n",
            "Requirement already satisfied: cycler>=0.10 in /usr/local/lib/python3.6/dist-packages (from matplotlib) (0.10.0)\n",
            "Requirement already satisfied: python-dateutil>=2.1 in /usr/local/lib/python3.6/dist-packages (from matplotlib) (2.8.1)\n",
            "Requirement already satisfied: pyparsing!=2.0.4,!=2.1.2,!=2.1.6,>=2.0.1 in /usr/local/lib/python3.6/dist-packages (from matplotlib) (2.4.7)\n",
            "Requirement already satisfied: kiwisolver>=1.0.1 in /usr/local/lib/python3.6/dist-packages (from matplotlib) (1.3.1)\n",
            "Requirement already satisfied: six in /usr/local/lib/python3.6/dist-packages (from cycler>=0.10->matplotlib) (1.15.0)\n"
          ],
          "name": "stdout"
        }
      ]
    },
    {
      "cell_type": "code",
      "metadata": {
        "id": "uW5BecFjH9yN"
      },
      "source": [
        "import yfinance as yf\n",
        "import matplotlib.pyplot as plt\n",
        "import numpy as np\n",
        "import pandas as pd\n",
        "from datetime import date\n",
        "from datetime import timedelta\n",
        "pd.set_option('mode.chained_assignment', None)"
      ],
      "execution_count": null,
      "outputs": []
    },
    {
      "cell_type": "markdown",
      "metadata": {
        "id": "OpVYkFXfG5Rf"
      },
      "source": [
        "## Define función para calcular el histograma y guardarse únicamente lo que sirve"
      ]
    },
    {
      "cell_type": "code",
      "metadata": {
        "id": "ftAmO8FAbRed"
      },
      "source": [
        "pd.set_option('display.max_columns', 30)\n",
        "pd.set_option('display.max_rows', 5000)\n",
        "pd.set_option('display.width', 1000)\n",
        "\n",
        "def MACD(ticker):\n",
        "  global df_candidatas\n",
        "  global df_confirmadas\n",
        "  global df_reversiones_candidatas\n",
        "  global actualDate\n",
        "  global df\n",
        "  today = date.today()\n",
        "  today = today + timedelta(days=1)\n",
        "  start_date = today + timedelta(days=-500)\n",
        "  df = yf.download(ticker, start=start_date, end=today)\n",
        "  df = df[['Close', 'Volume']]\n",
        "  mean = df['Volume'].mean()\n",
        "  std = df['Volume'].std()\n",
        "  df['Volume'] = (df['Volume'] - mean)/std * 100\n",
        "  df.reset_index(level=0, inplace=True)\n",
        "  df.columns=['ds','y', 'vol']\n",
        "  actualDate = df['ds'].max()\n",
        "  period = 12\n",
        "  sma = df['y'].rolling(period, min_periods=period).mean()\n",
        "  idx_start = sma.isna().sum() + 1 - period\n",
        "  idx_end = idx_start + period\n",
        "  sma = sma[idx_start: idx_end]\n",
        "  rest = df['y'][idx_end:]\n",
        "  ema = pd.concat([sma, rest]).ewm(span=period, adjust=False).mean()\n",
        "  df['exp1'] = ema\n",
        "  period = 26\n",
        "  sma = df['y'].rolling(period, min_periods=period).mean()\n",
        "  idx_start = sma.isna().sum() + 1 - period\n",
        "  idx_end = idx_start + period\n",
        "  sma = sma[idx_start: idx_end]\n",
        "  rest = df['y'][idx_end:]\n",
        "  ema = pd.concat([sma, rest]).ewm(span=period, adjust=False).mean()\n",
        "  df['exp2'] = ema\n",
        "  macd = df['exp1']-df['exp2']\n",
        "  df['macd'] = macd\n",
        "  df['exp3'] = macd.ewm(span=9, adjust=False).mean()\n",
        "  df['histog'] = df['macd'] - df['exp3'] \n",
        "  df['histog_1b'] = df.histog.shift(1) \n",
        "  df['histog_2b'] = df.histog.shift(2) \n",
        "  df['histog_3b'] = df.histog.shift(3) \n",
        "  df['histog_4b'] = df.histog.shift(4)\n",
        "\n",
        "  df_candidatas = df[((df.histog > 0) & (df.histog_1b < 0))|((df.histog < 0) & (df.histog_1b > 0))]\n",
        "  df_candidatas['anterior_day'] = df_candidatas.ds.shift(1) \n",
        "  df_candidatas['anterior_price'] = df_candidatas.y.shift(1) \n",
        "  df_candidatas = df_candidatas[df_candidatas.ds == actualDate]\n",
        "  if len(df_candidatas) !=  0:\n",
        "    df_candidatas.loc[(df['histog'] > 0), 'tipo'] = 'Alcista'\n",
        "    df_candidatas.loc[(df['histog'] < 0), 'tipo'] = 'Bajista'\n",
        "    df_candidatas['Activo'] = ticker\n",
        "\n",
        "  df_reversiones_candidatas = df[((df.histog < 0) & (df.histog > df.histog_1b) & (df.histog_1b > df.histog_2b))|\n",
        "                                 ((df.histog > 0) & (df.histog < df.histog_1b) & (df.histog_1b < df.histog_2b) & (df.histog_2b < df.histog_3b))]  \n",
        "  df_reversiones_candidatas.loc[(df['histog'] < 0), 'tipo'] = 'Reversión alcista'\n",
        "  df_reversiones_candidatas.loc[(df['histog'] > 0), 'tipo'] = 'Reversión bajista'\n",
        "  df_reversiones_candidatas['Activo'] = ticker\n",
        "  df_reversiones_candidatas['anterior_reversion'] = df_reversiones_candidatas.tipo.shift(1)\n",
        "  if len(df_reversiones_candidatas) !=  0:\n",
        "    df_reversiones_candidatas = df_reversiones_candidatas[((df_reversiones_candidatas.tipo == 'Reversión alcista') & (df_reversiones_candidatas.anterior_reversion == 'Reversión bajista'))\n",
        "    |((df_reversiones_candidatas.tipo == 'Reversión bajista') & (df_reversiones_candidatas.anterior_reversion == 'Reversión alcista'))]   \n",
        "    df_reversiones_candidatas['anterior_day'] = df_reversiones_candidatas.ds.shift(1)\n",
        "    df_reversiones_candidatas['anterior_price'] = df_reversiones_candidatas.y.shift(1)\n",
        "    if len(df_reversiones_candidatas) !=  0:\n",
        "      df_reversiones_candidatas = df_reversiones_candidatas[df_reversiones_candidatas.ds == actualDate]\n",
        "  \n",
        "  '''\n",
        "  df_confirmadas = df[(((df.histog > 0) & (df.histog_1b > 0) & (df.histog > df.histog_1b) & (df.histog_2b < 0)) |\n",
        "                      ((df.histog < 0) & (df.histog_1b < 0) & (df.histog < df.histog_1b) & (df.histog_2b > 0)))]\n",
        "  df_confirmadas['anterior_day'] = df_confirmadas.ds.shift(1) \n",
        "  df_confirmadas['anterior_price'] = df_confirmadas.y.shift(1) \n",
        "  df_confirmadas = df_confirmadas[df_confirmadas.ds == actualDate]\n",
        "  if len(df_confirmadas) !=  0:\n",
        "    df_confirmadas.loc[(df['histog'] > 0), 'tipo'] = 'Alcista'\n",
        "    df_confirmadas.loc[(df['histog'] < 0), 'tipo'] = 'Bajista'\n",
        "    df_confirmadas['Activo'] = ticker\n",
        "  '''"
      ],
      "execution_count": null,
      "outputs": []
    },
    {
      "cell_type": "markdown",
      "metadata": {
        "id": "CJwS_2ajLgmh"
      },
      "source": [
        "## Define función para graficar"
      ]
    },
    {
      "cell_type": "code",
      "metadata": {
        "id": "mRoUnsxkLdxk"
      },
      "source": [
        "def plot(ticker, desde, hasta):\n",
        "  global df\n",
        "  today = date.today()\n",
        "  hasta = hasta * -1 + 1\n",
        "  termina = today + timedelta(days=hasta)\n",
        "  desde = desde * -1\n",
        "  empieza = today + timedelta(days=desde)\n",
        "  df = yf.download(ticker, start=empieza, end=termina)\n",
        "  df = df[['Close', 'Volume']]\n",
        "  mean = df['Volume'].mean()\n",
        "  std = df['Volume'].std()\n",
        "  df['Volume'] = (df['Volume'] - mean)/std * 100\n",
        "  df.reset_index(level=0, inplace=True)\n",
        "  df.columns=['ds','y', 'vol']\n",
        "  actualDate = df['ds'].max()\n",
        "  period = 12\n",
        "  sma = df['y'].rolling(period, min_periods=period).mean()\n",
        "  idx_start = sma.isna().sum() + 1 - period\n",
        "  idx_end = idx_start + period\n",
        "  sma = sma[idx_start: idx_end]\n",
        "  rest = df['y'][idx_end:]\n",
        "  ema = pd.concat([sma, rest]).ewm(span=period, adjust=False).mean()\n",
        "  df['exp1'] = ema\n",
        "  period = 26\n",
        "  sma = df['y'].rolling(period, min_periods=period).mean()\n",
        "  idx_start = sma.isna().sum() + 1 - period\n",
        "  idx_end = idx_start + period\n",
        "  sma = sma[idx_start: idx_end]\n",
        "  rest = df['y'][idx_end:]\n",
        "  ema = pd.concat([sma, rest]).ewm(span=period, adjust=False).mean()\n",
        "  df['exp2'] = ema\n",
        "  macd = df['exp1']-df['exp2']\n",
        "  df['macd'] = macd\n",
        "  df['exp3'] = macd.ewm(span=9, adjust=False).mean()\n",
        "  df['histog'] = df['macd'] - df['exp3'] \n",
        "  df = df[['ds', 'y', 'vol', 'histog']].dropna()\n",
        "\n",
        "  ds = df[['ds']].to_numpy()\n",
        "  y = df[['y']].to_numpy()\n",
        "\n",
        "  ds_list = tuple(ds.reshape(1, -1)[0])\n",
        "  histog_list = df['histog'].tolist()\n",
        "  col = []\n",
        "  for val in histog_list:\n",
        "      if val < 0:\n",
        "          col.append('red')\n",
        "      elif val >= 0:\n",
        "          col.append('green')\n",
        "\n",
        "  y_pos = np.arange(len(ds_list))\n",
        "\n",
        "  plt.figure(figsize=(12,8))\n",
        "\n",
        "  plt.subplot(211)\n",
        "  plt.plot(ds, y)\n",
        "  plt.subplot(212)\n",
        "  plt.bar(y_pos, histog_list, color=col)\n",
        "  plt.show()"
      ],
      "execution_count": null,
      "outputs": []
    },
    {
      "cell_type": "markdown",
      "metadata": {
        "id": "LSirRnBLHBbw"
      },
      "source": [
        "## Junta todo a la fecha y devuelve análisis al presente:\n",
        "\n",
        "\n",
        "1.   **Cambios de signo**: En el último ejercicio disponible el histograma cruzó (o está cruzando) el 0 en sentido positivo o negativo.\n",
        "2.   **Cambios de tendencia**: En el último ejercicio disponible completó (o está completando) dos ascensos en el histograma con signo negativo (señal alcista) o tres descensos en el histograma con signo positivo (señal bajista). Solo se muestra la primera vez, por lo que si la tendencia sigue al día siguiente no se mostrará. [Parámetros](https://colab.research.google.com/drive/1uyyI_iB-DcfXInSVlbcdnwX6Nfxn-UPw).\n",
        "\n",
        "*   No se muestran confirmaciones: quedó [mostrado](https://colab.research.google.com/drive/1xyf5p8aGisevRqmrV6NkQtHxsqF5KYbA) que el cruce de signos está más cerca del final que del principio del reflejo en los precios, por lo que no se espera todavía más."
      ]
    },
    {
      "cell_type": "code",
      "metadata": {
        "id": "kaFer1TMJiZT",
        "colab": {
          "base_uri": "https://localhost:8080/"
        },
        "outputId": "58bbb06a-11bc-4328-e78d-c07a6e6befeb"
      },
      "source": [
        "candidatas = pd.DataFrame()\n",
        "confirmadas = pd.DataFrame()\n",
        "reversiones = pd.DataFrame()\n",
        "\n",
        "for ticker in (\n",
        "\"ALUA.BA\",\n",
        "\"CRES.BA\",\n",
        "\"EDN.BA\",\n",
        "\"GGAL.BA\",\n",
        "\"MIRG.BA\",\n",
        "\"PAMP.BA\",\n",
        "\"SUPV.BA\",\n",
        "\"TECO2.BA\",\n",
        "\"TGSU2.BA\",\n",
        "\"YPFD.BA\",\n",
        "\n",
        "\"MSFT.ba\",\n",
        "\"AAPL.ba\",\n",
        "\"MELI.ba\",\n",
        "\"GOOGL.ba\"\n",
        "):\n",
        "  MACD(ticker)\n",
        "  if len(df_candidatas) !=  0:\n",
        "    candidatas = candidatas.append(df_candidatas, ignore_index=True)\n",
        "  '''\n",
        "  if len(df_confirmadas) !=  0:\n",
        "    confirmadas = confirmadas.append(df_confirmadas, ignore_index=True)\n",
        "  '''\n",
        "  if len(df_reversiones_candidatas) !=  0:\n",
        "    reversiones = reversiones.append(df_reversiones_candidatas, ignore_index=True)\n",
        "\n",
        "'''\n",
        "print(\"confirmadas:\")\n",
        "if len(confirmadas) !=  0:\n",
        "  confirmadas = confirmadas[['ds', 'Activo', 'tipo', 'y', 'vol', 'histog', 'histog_1b', 'histog_2b', 'anterior_day', 'anterior_price']].sort_values(by=['ds'])\n",
        "  print(confirmadas)\n",
        "'''\n",
        "print(\"\\n\")\n",
        "\n",
        "print(\"CAMBIOS DE SIGNO:\")\n",
        "if len(candidatas) !=  0:\n",
        "  candidatas = candidatas[['ds', 'Activo', 'tipo', 'y', 'vol', 'histog', 'histog_1b', 'histog_2b', 'anterior_day', 'anterior_price']].sort_values(by=['ds'])\n",
        "  print(candidatas)\n",
        "\n",
        "print(\"\\n\")\n",
        "\n",
        "print(\"CAMBIOS DE TENDENCIA:\")\n",
        "if len(reversiones) !=  0:\n",
        "  reversiones = reversiones[['ds', 'Activo', 'tipo', 'y', 'vol', 'histog', 'histog_1b', 'histog_2b', 'anterior_day', 'anterior_price']].sort_values(by=['ds'])\n",
        "  print(reversiones)"
      ],
      "execution_count": null,
      "outputs": [
        {
          "output_type": "stream",
          "text": [
            "[*********************100%***********************]  1 of 1 completed\n",
            "[*********************100%***********************]  1 of 1 completed\n",
            "[*********************100%***********************]  1 of 1 completed\n",
            "[*********************100%***********************]  1 of 1 completed\n",
            "[*********************100%***********************]  1 of 1 completed\n",
            "[*********************100%***********************]  1 of 1 completed\n",
            "[*********************100%***********************]  1 of 1 completed\n",
            "[*********************100%***********************]  1 of 1 completed\n",
            "[*********************100%***********************]  1 of 1 completed\n",
            "[*********************100%***********************]  1 of 1 completed\n",
            "[*********************100%***********************]  1 of 1 completed\n",
            "[*********************100%***********************]  1 of 1 completed\n",
            "[*********************100%***********************]  1 of 1 completed\n",
            "[*********************100%***********************]  1 of 1 completed\n",
            "\n",
            "\n",
            "CAMBIOS DE SIGNO:\n",
            "\n",
            "\n",
            "CAMBIOS DE TENDENCIA:\n",
            "          ds   Activo               tipo           y        vol     histog  histog_1b  histog_2b anterior_day  anterior_price\n",
            "0 2021-02-12  GGAL.BA  Reversión bajista  123.849998 -67.119802   0.919073   1.173392   1.323236   2020-12-28      125.300003\n",
            "1 2021-02-12  PAMP.BA  Reversión bajista   84.550003 -84.719575   0.406375   0.458198   0.627941   2020-11-03       74.949997\n",
            "2 2021-02-12  YPFD.BA  Reversión bajista  684.950012 -28.708913  12.661621  13.804992  15.422698   2021-01-06      694.299988\n"
          ],
          "name": "stdout"
        }
      ]
    },
    {
      "cell_type": "markdown",
      "metadata": {
        "id": "q8NjCdNBGyIC"
      },
      "source": [
        "## Explorar una serie completa"
      ]
    },
    {
      "cell_type": "code",
      "metadata": {
        "id": "s2Gj5ucSr5xE",
        "colab": {
          "base_uri": "https://localhost:8080/",
          "height": 501
        },
        "outputId": "75ed7c84-3734-444b-a773-f95226a300f5"
      },
      "source": [
        "plot(\"GGAL.BA\", 900, 600)"
      ],
      "execution_count": null,
      "outputs": [
        {
          "output_type": "stream",
          "text": [
            "\r[*********************100%***********************]  1 of 1 completed\n"
          ],
          "name": "stdout"
        },
        {
          "output_type": "display_data",
          "data": {
            "image/png": "[encoded data removed]",
            "text/plain": [
              "<Figure size 864x576 with 2 Axes>"
            ]
          },
          "metadata": {
            "tags": [],
            "needs_background": "light"
          }
        }
      ]
    }
  ]
}