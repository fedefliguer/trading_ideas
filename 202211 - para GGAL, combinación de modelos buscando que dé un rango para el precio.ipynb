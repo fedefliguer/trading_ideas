{
  "nbformat": 4,
  "nbformat_minor": 0,
  "metadata": {
    "colab": {
      "provenance": [],
      "collapsed_sections": [
        "PcW4RYM9hRWC",
        "bFGcCVMQiP2s",
        "M4HD3BZgha0S",
        "L9ANddZmj8A8"
      ]
    },
    "kernelspec": {
      "name": "python3",
      "display_name": "Python 3"
    },
    "language_info": {
      "name": "python"
    }
  },
  "cells": [
    {
      "cell_type": "markdown",
      "source": [
        "# Entorno"
      ],
      "metadata": {
        "id": "AZQ38KZog0ui"
      }
    },
    {
      "cell_type": "markdown",
      "source": [
        "## Instalación de librerías"
      ],
      "metadata": {
        "id": "UdkGDna6g7bJ"
      }
    },
    {
      "cell_type": "code",
      "source": [
        "!pip install yfinance\n",
        "!pip3 install ta"
      ],
      "metadata": {
        "id": "WFfIiuLEg-b7"
      },
      "execution_count": null,
      "outputs": []
    },
    {
      "cell_type": "markdown",
      "source": [
        "## Carga de librerías"
      ],
      "metadata": {
        "id": "JLfVPwdAhBLR"
      }
    },
    {
      "cell_type": "code",
      "source": [
        "import requests\n",
        "from bs4 import BeautifulSoup\n",
        "from sklearn.preprocessing import StandardScaler\n",
        "from sklearn.linear_model import LinearRegression\n",
        "import yfinance as yf\n",
        "import numpy as np\n",
        "import pandas as pd\n",
        "from datetime import date\n",
        "from datetime import timedelta \n",
        "import matplotlib.pyplot as plt\n",
        "import scipy.stats as st\n",
        "import seaborn as sns\n",
        "from matplotlib.ticker import FuncFormatter\n",
        "from ta import add_all_ta_features\n",
        "from numpy import arange\n",
        "from pandas import read_csv\n",
        "from sklearn.linear_model import LassoCV\n",
        "from sklearn.model_selection import RepeatedKFold\n",
        "from sklearn.impute import SimpleImputer\n",
        "from sklearn.preprocessing import OneHotEncoder, MinMaxScaler\n",
        "from sklearn.pipeline import Pipeline\n",
        "from sklearn.decomposition import PCA \n",
        "from sklearn.ensemble import RandomForestRegressor\n",
        "from matplotlib import pyplot as plt\n",
        "from scipy.stats import pearsonr\n",
        "from sklearn.model_selection import GridSearchCV\n",
        "from sklearn.model_selection import RandomizedSearchCV\n",
        "\n",
        "from sklearn.linear_model import Lasso\n",
        "from sklearn.neighbors import KNeighborsRegressor\n",
        "from scipy.stats import pearsonr\n",
        "from sklearn.model_selection import cross_val_score\n",
        "from sklearn.model_selection import RepeatedKFold\n",
        "from sklearn.linear_model import Lasso\n",
        "from sklearn.preprocessing import StandardScaler\n",
        "from sklearn.linear_model import LinearRegression\n",
        "from sklearn.metrics import mean_absolute_error"
      ],
      "metadata": {
        "id": "3IS6UmgpgX4L"
      },
      "execution_count": null,
      "outputs": []
    },
    {
      "cell_type": "markdown",
      "source": [
        "## Opciones de display"
      ],
      "metadata": {
        "id": "W7RXhAnIhFUC"
      }
    },
    {
      "cell_type": "code",
      "source": [
        "#pd.set_option('display.max_columns', 400)\n",
        "#pd.set_option('display.max_rows', 12000)\n",
        "#pd.set_option('display.width', 1000)\n",
        "pd.set_option('use_inf_as_na', True)\n",
        "pd.options.display.float_format = '{:.4f}'.format"
      ],
      "metadata": {
        "id": "tbrVjWwyhGsB"
      },
      "execution_count": null,
      "outputs": []
    },
    {
      "cell_type": "markdown",
      "source": [
        "# Parámetros"
      ],
      "metadata": {
        "id": "zEkoyhtehI2c"
      }
    },
    {
      "cell_type": "code",
      "source": [
        "dias_empieza = 9000\n",
        "dias_termina = 1\n",
        "ticker = 'GGAL.BA'"
      ],
      "metadata": {
        "id": "2sUvgpT6hPI1"
      },
      "execution_count": null,
      "outputs": []
    },
    {
      "cell_type": "markdown",
      "source": [
        "# Armado de la base"
      ],
      "metadata": {
        "id": "yJscsJUshNtb"
      }
    },
    {
      "cell_type": "markdown",
      "source": [
        "## Descarga y ajustes"
      ],
      "metadata": {
        "id": "PcW4RYM9hRWC"
      }
    },
    {
      "cell_type": "code",
      "execution_count": null,
      "metadata": {
        "colab": {
          "base_uri": "https://localhost:8080/"
        },
        "id": "AciCFgv4emh7",
        "outputId": "1afa7c42-738c-41ef-f794-8ae25bb40517"
      },
      "outputs": [
        {
          "output_type": "stream",
          "name": "stdout",
          "text": [
            "\r[*********************100%***********************]  1 of 1 completed\n"
          ]
        }
      ],
      "source": [
        "def descarga(ticker, fc_empieza, fc_termina):\n",
        "  base = yf.download(ticker, start=fc_empieza, end=fc_termina)\n",
        "  base['Open'] = base['Open'] * base['Adj Close'] / base['Close']\n",
        "  base['Close'] = base['Close'] * base['Adj Close'] / base['Close']\n",
        "  base['High'] = base['High'] * base['Adj Close'] / base['Close']\n",
        "  base['Low'] = base['Low'] * base['Adj Close'] / base['Close']\n",
        "  base = base[['Open', 'Close', 'High', 'Low', 'Volume']]\n",
        "  base.insert(loc=0, column='Ticker', value=ticker)\n",
        "  base.reset_index(level=0, inplace=True)\n",
        "  base.columns=['Date', 'Ticker', 'Open', 'Close', 'High', 'Low', 'Volume']\n",
        "  base = base[base.Volume > 0]\n",
        "  base['vela_fl_alcista'] = np.where(base.Close > base.Open, 1, 0)\n",
        "  return base\n",
        "\n",
        "today = date.today()\n",
        "fc_empieza = today + timedelta(days=(dias_empieza*-1))\n",
        "fc_termina = today + timedelta(days=1)\n",
        "pd.options.mode.chained_assignment = None\n",
        "df = descarga(ticker, fc_empieza, fc_termina)"
      ]
    },
    {
      "cell_type": "markdown",
      "source": [
        "## Incorporación de features"
      ],
      "metadata": {
        "id": "yw4ZXDi1hYci"
      }
    },
    {
      "cell_type": "markdown",
      "source": [
        "### Características de la vela"
      ],
      "metadata": {
        "id": "bFGcCVMQiP2s"
      }
    },
    {
      "cell_type": "code",
      "source": [
        "rango_sensibilidad = 0.01 # Cuanto más grande, más probable que tome como iguales dos velas que no lo son. Cuanto más chico, más probable que no tome como iguales dos velas que si lo son.\n",
        "\n",
        "df.loc[:,'vela_tamaño'] = (df.High - df.Low)/df.High # El tamaño de la vela se calcula como un continuo de la diferencia entre el máximo y el mínimo, normalizado por el valor de cierre.\n",
        "df.loc[:,'vela_proporcion_cuerpo'] = (abs(df.Close - df.Open))/(df.High - df.Low) # Qué tanto ocupa el cuerpo y qué tanto las mechas del total. Tamaño más grande = más cuerpo (más decisivo)\n",
        "df['vela_decisiva'] = np.where((df['vela_proporcion_cuerpo'] > 0.8), df['vela_tamaño'] * df['vela_proporcion_cuerpo'], 0) # Variable cuasidummi (toma 0 cuando la vela no es decisiva, y si es decisiva toma un continuo mayor cuanto más grande es)\n",
        "mitad_vela_anterior = (df.Low.shift(1) + (df.High.shift(1) - df.Low.shift(1))/2)\n",
        "df.loc[:,'vela_piercing'] = np.where((df.Open < df.Close.shift(1)) & (df.Close > mitad_vela_anterior), 1, 0) # El precio abre a la baja, luego se recupera y termina por arriba de la mitad de la vela anterior. Solo válido en movimientos bajistas.\n",
        "df.loc[:,'vela_dark_cloud'] = np.where((df.Open > df.Close.shift(1)) & (df.Close < mitad_vela_anterior), 1, 0) # El precio abre al alza, luego cae y termina por arriba de la mitad de la vela anterior. Solo válido en movimientos alcistas.\n",
        "distancia_cuerpo_High = abs(df[[\"Open\", \"Close\"]].max(axis=1) - df.High)\n",
        "distancia_cuerpo_Low = abs(df[[\"Open\", \"Close\"]].min(axis=1) - df.Low)\n",
        "df.loc[:,'vela_early_reversal'] = (1-df['vela_proporcion_cuerpo']) * (((distancia_cuerpo_High - distancia_cuerpo_Low)/(distancia_cuerpo_High + distancia_cuerpo_Low))*(-1)) # Valores fuertes negativos son reversión bajista en tendencia alcista y alcista en tendencia bajista.\n",
        "\n",
        "df_decisivas = df[df.vela_decisiva > 0].copy()\n",
        "df_decisivas['vela_morning_star_alcista'] = np.where(((df_decisivas.vela_fl_alcista.shift(1) == 1)&(df_decisivas['vela_fl_alcista'] == 1)) & (df_decisivas.Close > (df_decisivas.Open.shift(1)+df_decisivas.Close.shift(1))/2), 1, 0) # Transición de una decisiva bajista a una alcista, que además cierra por encima de la mitad de donde cerró la decisiva anterior.\n",
        "df_decisivas['vela_evening_star_bajista'] = np.where(((df_decisivas.vela_fl_alcista.shift(1) == 1)&(df_decisivas['vela_fl_alcista'] == 0)) & (df_decisivas.Close < (df_decisivas.Close.shift(1)+df_decisivas.Open.shift(1))/2), 1, 0) # Transición de una decisiva alcista a una bajista, que además cierra por encima de la mitad de donde cerró la decisiva anterior.\n",
        "df_decisivas = df_decisivas[['Date', 'vela_morning_star_alcista', 'vela_evening_star_bajista']]\n",
        "df = pd.merge(df, df_decisivas, how=\"left\", on='Date')\n",
        "df[['vela_morning_star_alcista', 'vela_evening_star_bajista']] = df[['vela_morning_star_alcista', 'vela_evening_star_bajista']].fillna(value=0)\n",
        "\n",
        "df.loc[:,'vela_tweezer_bottom_alcista'] = np.where(\n",
        "    (df.Close > df.Open) & (df.Close.shift(1) < df.Open.shift(1)) &\n",
        "    (df.Low > df.Low.shift(1) * (1-rango_sensibilidad)) & (df.Low < df.Low.shift(1) * (1+rango_sensibilidad)) &\n",
        "    (df.High > df.High.shift(1) * (1-rango_sensibilidad)) & (df.High < df.High.shift(1) * (1+rango_sensibilidad)), \n",
        "    1, 0) # Mínimo y máximo muy parecido a ayer, pero la de hoy es alcista y la de ayer bajista.\n",
        "\n",
        "df.loc[:,'vela_tweezer_top_bajista'] = np.where(\n",
        "    (df.Close < df.Open) & (df.Close.shift(1) > df.Open.shift(1)) &\n",
        "    (df.Low > df.Low.shift(1) * (1-rango_sensibilidad)) & (df.Low < df.Low.shift(1) * (1+rango_sensibilidad)) &\n",
        "    (df.High > df.High.shift(1) * (1-rango_sensibilidad)) & (df.High < df.High.shift(1) * (1+rango_sensibilidad)), \n",
        "    1, 0) # Mínimo y máximo muy parecido a ayer, pero la de hoy es bajista y la de ayer alcista.\n",
        "\n",
        "df.loc[:,'vela_ying_yang_alcista'] = np.where(\n",
        "    (df.Close > df.Open) & (df.Close.shift(1) < df.Open.shift(1)) &\n",
        "    (df.Close > df.Close.shift(1) * (1-rango_sensibilidad)) & (df.Close < df.Close.shift(1) * (1+rango_sensibilidad)) &\n",
        "    (df.Open > df.Open.shift(1) * (1-rango_sensibilidad)) & (df.Open < df.Open.shift(1) * (1+rango_sensibilidad)), \n",
        "    1, 0) # Dos velas de igual apertura y cierre, hoy cerró arriba de lo que abrió y ayer cerró abajo de lo que abrió.\n",
        "\n",
        "df.loc[:,'vela_ying_yang_bajista'] = np.where(\n",
        "    (df.Close < df.Open) & (df.Close.shift(1) > df.Open.shift(1)) &\n",
        "    (df.Close > df.Close.shift(1) * (1-rango_sensibilidad)) & (df.Close < df.Close.shift(1) * (1+rango_sensibilidad)) &\n",
        "    (df.Open > df.Open.shift(1) * (1-rango_sensibilidad)) & (df.Open < df.Open.shift(1) * (1+rango_sensibilidad)), \n",
        "    1, 0)"
      ],
      "metadata": {
        "id": "HGQTNCe2iSQE"
      },
      "execution_count": null,
      "outputs": []
    },
    {
      "cell_type": "markdown",
      "source": [
        "### Análisis técnico (Momentum, Volume, Volatility, Trend, Others) ver en https://technical-analysis-library-in-python.readthedocs.io/en/latest/)"
      ],
      "metadata": {
        "id": "M4HD3BZgha0S"
      }
    },
    {
      "cell_type": "code",
      "source": [
        "df = add_all_ta_features(df, open=\"Open\", high=\"High\", low=\"Low\", close=\"Close\", volume=\"Volume\", fillna=True)"
      ],
      "metadata": {
        "colab": {
          "base_uri": "https://localhost:8080/"
        },
        "id": "WS1Zws42f6xz",
        "outputId": "ade33997-4f2d-4a3b-a5a3-326cb35e6a42"
      },
      "execution_count": null,
      "outputs": [
        {
          "output_type": "stream",
          "name": "stderr",
          "text": [
            "/usr/local/lib/python3.8/dist-packages/ta/trend.py:780: RuntimeWarning: invalid value encountered in double_scalars\n",
            "  dip[idx] = 100 * (self._dip[idx] / value)\n",
            "/usr/local/lib/python3.8/dist-packages/ta/trend.py:785: RuntimeWarning: invalid value encountered in double_scalars\n",
            "  din[idx] = 100 * (self._din[idx] / value)\n"
          ]
        }
      ]
    },
    {
      "cell_type": "markdown",
      "source": [
        "### Soportes y resistencias"
      ],
      "metadata": {
        "id": "L9ANddZmj8A8"
      }
    },
    {
      "cell_type": "code",
      "source": [
        "numero_lags = 5\n",
        "rango_quiebre = 0.03\n",
        "\n",
        "def save_data(dataset, df_all):\n",
        "    df_all = pd.concat([dataset, df_all], axis=0)\n",
        "    return df_all\n",
        "\n",
        "def recorrido_soportes_resistencias(dataset, fecha_empieza_vigencia, valor_soporte, rango_quebrado, df_all, prueba_nro, Logging, clase):\n",
        "  dataset = dataset[dataset.Date > fecha_empieza_vigencia]\n",
        "  dataset['rango_quebrado_inicia'] = valor_soporte * (1-rango_quebrado)\n",
        "  dataset['valor'] = valor_soporte\n",
        "  dataset['rango_quebrado_termina'] = valor_soporte * (1+rango_quebrado)\n",
        "  dataset['es_zona_prueba'] = np.where((dataset['Low'] < dataset['valor']) & (dataset['High'] > dataset['valor']), 1, 0)\n",
        "  if clase == 's':\n",
        "    dataset['es_zona_confirmacion'] = np.where((dataset['High'] > dataset['rango_quebrado_termina']), 1, 0)\n",
        "    dataset['es_zona_quiebre'] = np.where((dataset['Low'] < dataset['rango_quebrado_inicia']), 1, 0)\n",
        "  elif clase == 'r':\n",
        "    dataset['es_zona_quiebre'] = np.where((dataset['High'] > dataset['rango_quebrado_termina']), 1, 0)\n",
        "    dataset['es_zona_confirmacion'] = np.where((dataset['Low'] < dataset['rango_quebrado_inicia']), 1, 0)\n",
        "  mascara_probado = (dataset.es_zona_prueba == 1)\n",
        "  mascara_quebrado = (dataset.es_zona_quiebre == 1)\n",
        "  if len(dataset[mascara_probado]) == 0 & len(dataset[mascara_quebrado]) == 0:\n",
        "    resolucion = 'vigente'\n",
        "    fecha_prueba = np.nan\n",
        "    fecha_resolucion = np.nan\n",
        "    print('La prueba número ', prueba_nro, 'nunca se realizó en la historia') if Logging else None\n",
        "  elif len(dataset[mascara_probado]) == 0:\n",
        "    resolucion = 'quebrado sin probarse nunca'\n",
        "    fecha_prueba = np.nan\n",
        "    fecha_resolucion = np.nan\n",
        "    print('La prueba', prueba_nro, 'nunca se realizó, pero el valor fue quebrado') if Logging else None\n",
        "  else:\n",
        "    fecha_prueba = dataset[mascara_probado].iloc[0].Date\n",
        "    resolucion = ''\n",
        "    if len(dataset[mascara_quebrado]) > 0:\n",
        "      fecha_quiebre = dataset[mascara_quebrado].iloc[0].Date\n",
        "      if fecha_quiebre < fecha_prueba:      \n",
        "        resolucion = 'quebrado'\n",
        "        fecha_prueba = np.nan\n",
        "        fecha_resolucion = fecha_quiebre\n",
        "        print('La prueba', prueba_nro, 'fue quebrada antes de probarse') if Logging else None\n",
        "    if resolucion != 'quebrado':\n",
        "      print('La prueba número ', prueba_nro, 'empezó el día ', fecha_prueba, ' cuando el mínimo fue ', dataset[mascara_probado].iloc[0].Low, ' y el máximo fue ', dataset[mascara_probado].iloc[0].High) if Logging else None\n",
        "      mascara_resuelto = ((dataset.Date > fecha_prueba)&(dataset.es_zona_confirmacion == 1))|((dataset.Date > fecha_prueba)&(dataset.es_zona_quiebre == 1))\n",
        "      if len(dataset[mascara_resuelto]): # La prueba fue resuelta\n",
        "        fecha_resolucion = dataset[mascara_resuelto].iloc[0].Date\n",
        "        print('Fue resuelta el día ', fecha_resolucion, ' cuando el mínimo fue ', dataset[mascara_resuelto].iloc[0].Low, ' y el máximo fue ', dataset[mascara_resuelto].iloc[0].High) if Logging else None\n",
        "        if (dataset[mascara_resuelto].iloc[0].es_zona_confirmacion == 1) & (dataset[mascara_resuelto].iloc[0].es_zona_quiebre == 1):\n",
        "          resolucion = 'indeterminado por resolverse el mismo día'\n",
        "          print('La prueba número ', prueba_nro, 'completó la historia sin ser determinada') if Logging else None\n",
        "        elif dataset[mascara_resuelto].iloc[0].es_zona_confirmacion == 1:\n",
        "          resolucion = 'probado'\n",
        "          print('La prueba número ', prueba_nro, 'completó la historia probada el día ', fecha_resolucion) if Logging else None\n",
        "        elif dataset[mascara_resuelto].iloc[0].es_zona_quiebre == 1:\n",
        "          resolucion = 'quebrado'\n",
        "          print('La prueba número ', prueba_nro, 'completó la historia quebrada el día ', fecha_resolucion) if Logging else None\n",
        "      else:\n",
        "        fecha_resolucion = np.nan\n",
        "        resolucion = 'indeterminado por no resolverse nunca'\n",
        "        print('No llegó a resolverse en el mes.') if Logging else None\n",
        "  analisis_prueba_list = []\n",
        "  analisis_prueba_list.append([ticker+str(round(valor_soporte,2)), ticker, valor_soporte, fecha_empieza_vigencia, prueba_nro, fecha_prueba, fecha_resolucion, resolucion])\n",
        "  analisis_prueba = pd.DataFrame(analisis_prueba_list, columns = [\"id_soporte\", \"ticker\", \"valor\", \"fecha_ingreso_vigencia\", \"nro_prueba_historia\", \"fecha_prueba\", \"fecha_resolucion\", \"tipo_resolucion\"])\n",
        "  analisis_prueba['fecha_prueba'] = pd.to_datetime(analisis_prueba['fecha_prueba'])\n",
        "  analisis_prueba['fecha_resolucion'] = pd.to_datetime(analisis_prueba['fecha_resolucion'])\n",
        "  df_all = save_data(df_all, analisis_prueba)\n",
        "  if resolucion == 'probado':\n",
        "    print('La prueba número ', prueba_nro, 'admite nuevas pruebas') if Logging else None\n",
        "    prueba_nro = prueba_nro + 1\n",
        "    dataset = dataset[dataset.Date > fecha_resolucion]\n",
        "    return recorrido_soportes_resistencias(dataset, fecha_empieza_vigencia, valor_soporte, rango_quebrado, df_all, prueba_nro, Logging, clase)\n",
        "  else:\n",
        "    return df_all\n",
        "\n",
        "def calculo_historia(dataset, lags, rq, l):\n",
        "  global puntos_soporte, fechas_soporte, fechas_vigencia_soporte, puntos_resistencia, fechas_resistencia, fechas_vigencia_resistencia\n",
        "  i = 1\n",
        "  while i < (lags+1): # Genera ventanas alrededor para analizar si es soporte\n",
        "      colname = 'l%sb' % (i)                                                  \n",
        "      dataset[colname] = round(dataset['Close'].shift(i),2)\n",
        "      colname = 'l%sf' % (i)                                                  \n",
        "      dataset[colname] = round(dataset['Close'].shift(-i),2)\n",
        "      i = i + 1\n",
        "  x = np.arange(len(dataset.Date))\n",
        "  dataset['minb'] = round(dataset.filter(regex=(\"^l(.*)b$\")).min(axis=1),2)\n",
        "  dataset['minf'] = round(dataset.filter(regex=(\"^l(.*)f$\")).min(axis=1),2)\n",
        "  dataset['maxb'] = round(dataset.filter(regex=(\"^l(.*)b$\")).max(axis=1),2)\n",
        "  dataset['maxf'] = round(dataset.filter(regex=(\"^l(.*)f$\")).max(axis=1),2)\n",
        "  dataset['Soporte'] = np.where((dataset.index > lags) & (dataset['Close']<dataset['minb']) & (dataset['Close']<dataset['minf']), 1, 0)\n",
        "  dataset['Soporte'] = np.where((dataset.index > (dataset.shape[0] - lags)), 0 , dataset.Soporte * dataset['Close'])\n",
        "  dataset['Resistencia'] = np.where((dataset.index > lags) & (dataset['Close']>dataset['maxb']) & (dataset['Close']>dataset['maxf']), 1, 0)\n",
        "  dataset['Resistencia'] = np.where((dataset.index > (dataset.shape[0] - lags)), 0 , dataset.Resistencia * dataset['Close'])\n",
        "  dataset = dataset[['Date', 'Ticker', 'Close', 'Low', 'High', 'Soporte', 'Resistencia']]\n",
        "  dataset['Date_vigencia'] = dataset.Date.shift(-lags)\n",
        "  dataset.replace(0, np.nan, inplace=True)\n",
        "  puntos_soporte = dataset[dataset.Soporte > 0]['Soporte'].to_numpy() # Lista de soportes\n",
        "  fechas_soporte = dataset[dataset.Soporte > 0]['Date'].to_numpy() # Lista de fechas de soporte\n",
        "  fechas_vigencia_soporte = dataset[dataset.Soporte > 0]['Date_vigencia'].to_numpy() # Lista de fechas de soporte\n",
        "  print('EMPIEZA ANÁLISIS DE SOPORTES') if l else None\n",
        "  dataset_all_soportes = pd.DataFrame()\n",
        "  i = 0\n",
        "  while i < len(puntos_soporte):  # Recorre la lista de soportes\n",
        "    dataset_all_soportes = recorrido_soportes_resistencias(dataset, fechas_vigencia_soporte[i], puntos_soporte[i], rq, dataset_all_soportes, 1, Logging=l, clase='s')\n",
        "    i = i + 1\n",
        "  print('EMPIEZA ANÁLISIS DE RESISTENCIAS') if l else None\n",
        "  puntos_resistencia = dataset[dataset.Resistencia > 0]['Resistencia'].to_numpy() # Lista de resistencia\n",
        "  fechas_resistencia = dataset[dataset.Resistencia > 0]['Date'].to_numpy() # Lista de fechas de resistencia\n",
        "  fechas_vigencia_resistencia = dataset[dataset.Resistencia > 0]['Date_vigencia'].to_numpy() # Lista de fechas de soporte\n",
        "  dataset_all_resistencias = pd.DataFrame()\n",
        "  i = 0\n",
        "  while i < len(puntos_resistencia):  # Recorre la lista de resistencia\n",
        "    print('ANALIZO EL PUNTO ', puntos_resistencia[i], ' DEL ', fechas_resistencia[i], ' QUE ENTRARÍA EN VIGENCIA EL ', fechas_vigencia_resistencia[i]) if l else None\n",
        "    dataset_all_resistencias = recorrido_soportes_resistencias(dataset, fechas_vigencia_resistencia[i], puntos_resistencia[i], rq, dataset_all_resistencias, 1, Logging=l, clase='r')\n",
        "    i = i + 1\n",
        "  return dataset_all_soportes, dataset_all_resistencias\n",
        "\n",
        "def seleccion_linea(dataset, fecha, precio, clase):\n",
        "  mascara_iniciados_antes = (dataset.fecha_ingreso_vigencia < fecha)\n",
        "  mascara_vigentes_hoy = (dataset.tipo_resolucion == 'vigente')\n",
        "  mascara_quebrados_despues = ((dataset.tipo_resolucion == 'quebrado') & (dataset.fecha_resolucion > fecha))|((dataset.tipo_resolucion == 'indeterminado por resolverse el mismo día') & (dataset.fecha_resolucion > fecha))\n",
        "  vigentes = dataset[mascara_iniciados_antes & (mascara_vigentes_hoy|mascara_quebrados_despues)].sort_values(by=['fecha_ingreso_vigencia'])\n",
        "  if clase == 's':\n",
        "    try:\n",
        "      valor = vigentes.iloc[vigentes['valor'].argmax()].valor\n",
        "      pruebas = vigentes.iloc[vigentes['valor'].argmax()].nro_prueba_historia\n",
        "      antiguedad = (fecha - (vigentes.iloc[vigentes['valor'].argmax()].fecha_ingreso_vigencia)).days\n",
        "      return valor, pruebas, antiguedad\n",
        "    except:\n",
        "      return np.nan, np.nan, np.nan\n",
        "  elif clase == 'r':\n",
        "    try:\n",
        "      valor = vigentes.iloc[vigentes['valor'].argmin()].valor\n",
        "      pruebas = vigentes.iloc[vigentes['valor'].argmin()].nro_prueba_historia\n",
        "      antiguedad = (fecha - (vigentes.iloc[vigentes['valor'].argmin()].fecha_ingreso_vigencia)).days\n",
        "      return valor, pruebas, antiguedad\n",
        "    except:\n",
        "      return np.nan, np.nan, np.nan\n",
        "\n",
        "datasets_soportes_resistencias = {}\n",
        "\n",
        "periodos_sr = [5, 10, 20]\n",
        "for num_lags in periodos_sr:\n",
        "  df_soportes, df_resistencias = calculo_historia(df, num_lags, rango_quiebre, l=False)\n",
        "  df = df[df.columns.drop(list(df.filter(regex='l.*b|l.*f|minb|minf|maxb|maxf|Soporte|Resistencia')))]\n",
        "  \n",
        "  lista_soportes_diarios = [seleccion_linea(df_soportes, f, p, 's') for f, p in zip(df['Date'], df['Close'])]\n",
        "  df['soporte_%s_valor' % (num_lags)] = [a_tuple[0] for a_tuple in lista_soportes_diarios]\n",
        "  df['soporte_%s_numero_pruebas' % (num_lags)] = [a_tuple[1] for a_tuple in lista_soportes_diarios]\n",
        "  df['soporte_%s_dias_antiguedad' % (num_lags)] = [a_tuple[2] for a_tuple in lista_soportes_diarios]\n",
        "\n",
        "  lista_resistencias_diarias  = [seleccion_linea(df_resistencias, f, p, 'r') for f, p in zip(df['Date'], df['Close'])]\n",
        "  df['resistencia_%s_valor' % (num_lags)] = [a_tuple[0] for a_tuple in lista_resistencias_diarias]\n",
        "  df['resistencia_%s_numero_pruebas' % (num_lags)] = [a_tuple[1] for a_tuple in lista_resistencias_diarias]\n",
        "  df['resistencia_%s_dias_antiguedad' % (num_lags)] = [a_tuple[2] for a_tuple in lista_resistencias_diarias]\n",
        "  datasets_soportes_resistencias[\"df_soportes_{0}\".format(num_lags)] = df_soportes\n",
        "  datasets_soportes_resistencias[\"df_resistencias_{0}\".format(num_lags)] = df_resistencias\n",
        "\n",
        "df = df[df.columns.drop(list(df.filter(regex='l(.*)b')))]\n",
        "df = df[df.columns.drop(list(df.filter(regex='l(.*)f')))]\n",
        "df = df[df.columns.drop(list(df.filter(regex='maxf|maxb|minf|minb')))]\n",
        "\n",
        "for num_lags in periodos_sr:\n",
        "  df['chart_dist_a_resistencia_%s' % (num_lags)] = df['resistencia_%s_valor' % (num_lags)]/df['Close']\n",
        "  df['chart_dist_a_soporte_%s' % (num_lags)] = df['soporte_%s_valor' % (num_lags)]/df['Close']\n",
        "\n",
        "df = df.loc[:,~df.columns.str.startswith('soporte')].copy()\n",
        "df = df.loc[:,~df.columns.str.startswith('resistencia')].copy()"
      ],
      "metadata": {
        "colab": {
          "base_uri": "https://localhost:8080/"
        },
        "id": "9rhbf3HTj8R0",
        "outputId": "e0ea0c00-6dfe-41fc-b9b4-2036b281a513"
      },
      "execution_count": null,
      "outputs": [
        {
          "output_type": "stream",
          "name": "stderr",
          "text": [
            "<ipython-input-55-2c7ce26755f9>:80: PerformanceWarning: DataFrame is highly fragmented.  This is usually the result of calling `frame.insert` many times, which has poor performance.  Consider joining all columns at once using pd.concat(axis=1) instead.  To get a de-fragmented frame, use `newframe = frame.copy()`\n",
            "  dataset[colname] = round(dataset['Close'].shift(i),2)\n",
            "<ipython-input-55-2c7ce26755f9>:82: PerformanceWarning: DataFrame is highly fragmented.  This is usually the result of calling `frame.insert` many times, which has poor performance.  Consider joining all columns at once using pd.concat(axis=1) instead.  To get a de-fragmented frame, use `newframe = frame.copy()`\n",
            "  dataset[colname] = round(dataset['Close'].shift(-i),2)\n"
          ]
        }
      ]
    },
    {
      "cell_type": "markdown",
      "source": [
        "# Dataset"
      ],
      "metadata": {
        "id": "tWm8bKHPiqkV"
      }
    },
    {
      "cell_type": "code",
      "source": [
        "for col in df.columns[7:]:\n",
        "  try:\n",
        "    if col == 'Close':\n",
        "      pass\n",
        "    elif pearsonr(df[col], df['Close'])[0] > 0.975:\n",
        "      print('La correlación de ', col, 'con el precio es alta, por lo que normalizo la columna', col)\n",
        "      df[col] = df[col]/df['Close']\n",
        "  except:\n",
        "    pass\n",
        "df = df.iloc[200:, :].reset_index(drop=True)\n",
        "df.replace([np.inf, -np.inf], np.nan, inplace=True)"
      ],
      "metadata": {
        "id": "l-5WA2diir_k",
        "colab": {
          "base_uri": "https://localhost:8080/"
        },
        "outputId": "94a51577-d3da-453e-a71f-a29276ba8f63"
      },
      "execution_count": null,
      "outputs": [
        {
          "output_type": "stream",
          "name": "stdout",
          "text": [
            "La correlación de  volume_vwap con el precio es alta, por lo que normalizo la columna volume_vwap\n",
            "La correlación de  volatility_kcc con el precio es alta, por lo que normalizo la columna volatility_kcc\n",
            "La correlación de  volatility_kch con el precio es alta, por lo que normalizo la columna volatility_kch\n",
            "La correlación de  volatility_kcl con el precio es alta, por lo que normalizo la columna volatility_kcl\n",
            "La correlación de  volatility_dcl con el precio es alta, por lo que normalizo la columna volatility_dcl\n",
            "La correlación de  volatility_dch con el precio es alta, por lo que normalizo la columna volatility_dch\n",
            "La correlación de  volatility_dcm con el precio es alta, por lo que normalizo la columna volatility_dcm\n",
            "La correlación de  trend_sma_fast con el precio es alta, por lo que normalizo la columna trend_sma_fast\n",
            "La correlación de  trend_sma_slow con el precio es alta, por lo que normalizo la columna trend_sma_slow\n",
            "La correlación de  trend_ema_fast con el precio es alta, por lo que normalizo la columna trend_ema_fast\n",
            "La correlación de  trend_ema_slow con el precio es alta, por lo que normalizo la columna trend_ema_slow\n",
            "La correlación de  trend_ichimoku_conv con el precio es alta, por lo que normalizo la columna trend_ichimoku_conv\n",
            "La correlación de  trend_ichimoku_base con el precio es alta, por lo que normalizo la columna trend_ichimoku_base\n",
            "La correlación de  trend_ichimoku_a con el precio es alta, por lo que normalizo la columna trend_ichimoku_a\n",
            "La correlación de  trend_ichimoku_b con el precio es alta, por lo que normalizo la columna trend_ichimoku_b\n",
            "La correlación de  trend_visual_ichimoku_a con el precio es alta, por lo que normalizo la columna trend_visual_ichimoku_a\n",
            "La correlación de  trend_psar_up con el precio es alta, por lo que normalizo la columna trend_psar_up\n",
            "La correlación de  trend_psar_down con el precio es alta, por lo que normalizo la columna trend_psar_down\n",
            "La correlación de  momentum_kama con el precio es alta, por lo que normalizo la columna momentum_kama\n",
            "La correlación de  others_cr con el precio es alta, por lo que normalizo la columna others_cr\n"
          ]
        }
      ]
    },
    {
      "cell_type": "markdown",
      "source": [
        "# Modelo"
      ],
      "metadata": {
        "id": "opUgzw4ZGiU0"
      }
    },
    {
      "cell_type": "markdown",
      "source": [
        "#### Primer análisis explicativo"
      ],
      "metadata": {
        "id": "58IaT25UpKIE"
      }
    },
    {
      "cell_type": "markdown",
      "source": [
        "Buscamos responder:\n",
        "\n",
        "*   Entre target 1, target 7, target 15, target 30, ¿hay diferencia en performance?\n",
        "*   ¿Entre modelo que predice variación y modelo que predice variación absoluta, hay diferencias?\n",
        "*   ¿Entre estandarizar y no, hay diferencia en performance?\n",
        "*   Entre regresión simple, regresión Lasso (75%, 50%, 25% de las variables), ¿hay diferencia en performance?\n",
        "*   ¿Qué coeficientes da? ¿Qué coeficientes se mantienen cuando se regulariza?\n"
      ],
      "metadata": {
        "id": "5w2d0JQZIpig"
      }
    },
    {
      "cell_type": "code",
      "source": [
        "results = pd.DataFrame(columns = ['dias_target', 'media_target', 'mediana_target', 'tipo_target', 'alpha', 'nu_variables', 'MAE_train', 'MAE_oos'])\n",
        "for target in [1, 3, 5, 7, 10, 14, 21, 30]:\n",
        "  df['target'] = df.Close.shift(-target)/df.Close - 1\n",
        "  df = df.iloc[0:-target,:]\n",
        "  oos_last = df.tail(500).copy()\n",
        "  oos_last['oos'] = 'last_200'\n",
        "  oos_random = df[df.Date.isin(df.sample(500)['Date'])].copy()\n",
        "  oos_random['oos'] = 'random'\n",
        "  oos = pd.concat([oos_last, oos_random]).sort_values(by='Date').drop_duplicates(subset=['Date'], keep='first').reset_index(drop=True)\n",
        "  df_dev = df[~df.Date.isin(oos.Date)].copy()\n",
        "  for absolute in [True, False]:\n",
        "    if absolute:\n",
        "      tipo_target = 'Variación porcenutal en valor absoluto'\n",
        "      df_dev['target'] = abs(df_dev['target'])\n",
        "      oos['target'] = abs(oos['target'])\n",
        "      X_train = df_dev[[col for col in df_dev.iloc[:, 7:-1] if col.startswith('v') is True]]\n",
        "      y_train = df_dev['target']\n",
        "      X_oos = oos[[col for col in oos.iloc[:, 7:-1] if col.startswith('v') is True]]\n",
        "      y_oos = oos['target']\n",
        "    else:\n",
        "      tipo_target = 'Variación porcentual'\n",
        "      df_dev['target'] = df_dev['target']\n",
        "      oos['target'] = oos['target']\n",
        "      X_train = df_dev[[col for col in df_dev.iloc[:, 7:-1] if col.startswith('v') is False]]\n",
        "      y_train = df_dev['target']\n",
        "      X_oos = oos[[col for col in oos.iloc[:, 7:-2] if col.startswith('v') is False]]\n",
        "      y_oos = oos['target']\n",
        "    X_train = X_train.fillna(X_train.median())\n",
        "    X_oos = X_oos.fillna(X_oos.median())\n",
        "    for exp in range(-5, 3):\n",
        "      alpha = 10 ** exp\n",
        "      regr = Lasso(alpha=alpha).fit(X_train, y_train)\n",
        "      mae_train = mean_absolute_error(regr.predict(X_train), y_train)\n",
        "      mae_oos = mean_absolute_error(regr.predict(X_oos), y_oos)\n",
        "      results.loc[len(results)] = [target, abs(y_oos).mean(), abs(y_oos).median(), tipo_target, alpha, np.count_nonzero(regr.coef_), mae_train, mae_oos]"
      ],
      "metadata": {
        "id": "V2tdA2O9LWma",
        "colab": {
          "base_uri": "https://localhost:8080/"
        },
        "outputId": "7fad20a2-51a4-4a51-c70c-2f49a2946868"
      },
      "execution_count": null,
      "outputs": [
        {
          "output_type": "stream",
          "name": "stderr",
          "text": [
            "/usr/local/lib/python3.8/dist-packages/sklearn/linear_model/_coordinate_descent.py:647: ConvergenceWarning: Objective did not converge. You might want to increase the number of iterations, check the scale of the features or consider increasing regularisation. Duality gap: 1.905e+00, tolerance: 4.322e-04\n",
            "  model = cd_fast.enet_coordinate_descent(\n",
            "/usr/local/lib/python3.8/dist-packages/sklearn/linear_model/_coordinate_descent.py:647: ConvergenceWarning: Objective did not converge. You might want to increase the number of iterations, check the scale of the features or consider increasing regularisation. Duality gap: 1.424e-03, tolerance: 4.322e-04\n",
            "  model = cd_fast.enet_coordinate_descent(\n",
            "/usr/local/lib/python3.8/dist-packages/sklearn/linear_model/_coordinate_descent.py:647: ConvergenceWarning: Objective did not converge. You might want to increase the number of iterations, check the scale of the features or consider increasing regularisation. Duality gap: 1.825e-03, tolerance: 4.322e-04\n",
            "  model = cd_fast.enet_coordinate_descent(\n",
            "/usr/local/lib/python3.8/dist-packages/sklearn/linear_model/_coordinate_descent.py:647: ConvergenceWarning: Objective did not converge. You might want to increase the number of iterations, check the scale of the features or consider increasing regularisation. Duality gap: 3.898e+00, tolerance: 9.233e-04\n",
            "  model = cd_fast.enet_coordinate_descent(\n",
            "/usr/local/lib/python3.8/dist-packages/sklearn/linear_model/_coordinate_descent.py:647: ConvergenceWarning: Objective did not converge. You might want to increase the number of iterations, check the scale of the features or consider increasing regularisation. Duality gap: 3.985e+00, tolerance: 9.233e-04\n",
            "  model = cd_fast.enet_coordinate_descent(\n",
            "/usr/local/lib/python3.8/dist-packages/sklearn/linear_model/_coordinate_descent.py:647: ConvergenceWarning: Objective did not converge. You might want to increase the number of iterations, check the scale of the features or consider increasing regularisation. Duality gap: 3.602e+00, tolerance: 9.233e-04\n",
            "  model = cd_fast.enet_coordinate_descent(\n",
            "/usr/local/lib/python3.8/dist-packages/sklearn/linear_model/_coordinate_descent.py:647: ConvergenceWarning: Objective did not converge. You might want to increase the number of iterations, check the scale of the features or consider increasing regularisation. Duality gap: 4.183e-03, tolerance: 9.233e-04\n",
            "  model = cd_fast.enet_coordinate_descent(\n",
            "/usr/local/lib/python3.8/dist-packages/sklearn/linear_model/_coordinate_descent.py:647: ConvergenceWarning: Objective did not converge. You might want to increase the number of iterations, check the scale of the features or consider increasing regularisation. Duality gap: 4.567e-03, tolerance: 9.233e-04\n",
            "  model = cd_fast.enet_coordinate_descent(\n",
            "/usr/local/lib/python3.8/dist-packages/sklearn/linear_model/_coordinate_descent.py:647: ConvergenceWarning: Objective did not converge. You might want to increase the number of iterations, check the scale of the features or consider increasing regularisation. Duality gap: 6.222e+00, tolerance: 1.509e-03\n",
            "  model = cd_fast.enet_coordinate_descent(\n",
            "/usr/local/lib/python3.8/dist-packages/sklearn/linear_model/_coordinate_descent.py:647: ConvergenceWarning: Objective did not converge. You might want to increase the number of iterations, check the scale of the features or consider increasing regularisation. Duality gap: 5.923e+00, tolerance: 1.509e-03\n",
            "  model = cd_fast.enet_coordinate_descent(\n",
            "/usr/local/lib/python3.8/dist-packages/sklearn/linear_model/_coordinate_descent.py:647: ConvergenceWarning: Objective did not converge. You might want to increase the number of iterations, check the scale of the features or consider increasing regularisation. Duality gap: 6.107e-02, tolerance: 1.509e-03\n",
            "  model = cd_fast.enet_coordinate_descent(\n",
            "/usr/local/lib/python3.8/dist-packages/sklearn/linear_model/_coordinate_descent.py:647: ConvergenceWarning: Objective did not converge. You might want to increase the number of iterations, check the scale of the features or consider increasing regularisation. Duality gap: 6.092e-03, tolerance: 1.509e-03\n",
            "  model = cd_fast.enet_coordinate_descent(\n",
            "/usr/local/lib/python3.8/dist-packages/sklearn/linear_model/_coordinate_descent.py:647: ConvergenceWarning: Objective did not converge. You might want to increase the number of iterations, check the scale of the features or consider increasing regularisation. Duality gap: 8.424e+00, tolerance: 2.055e-03\n",
            "  model = cd_fast.enet_coordinate_descent(\n",
            "/usr/local/lib/python3.8/dist-packages/sklearn/linear_model/_coordinate_descent.py:647: ConvergenceWarning: Objective did not converge. You might want to increase the number of iterations, check the scale of the features or consider increasing regularisation. Duality gap: 8.559e+00, tolerance: 2.055e-03\n",
            "  model = cd_fast.enet_coordinate_descent(\n",
            "/usr/local/lib/python3.8/dist-packages/sklearn/linear_model/_coordinate_descent.py:647: ConvergenceWarning: Objective did not converge. You might want to increase the number of iterations, check the scale of the features or consider increasing regularisation. Duality gap: 8.075e+00, tolerance: 2.055e-03\n",
            "  model = cd_fast.enet_coordinate_descent(\n",
            "/usr/local/lib/python3.8/dist-packages/sklearn/linear_model/_coordinate_descent.py:647: ConvergenceWarning: Objective did not converge. You might want to increase the number of iterations, check the scale of the features or consider increasing regularisation. Duality gap: 2.364e-02, tolerance: 2.055e-03\n",
            "  model = cd_fast.enet_coordinate_descent(\n",
            "/usr/local/lib/python3.8/dist-packages/sklearn/linear_model/_coordinate_descent.py:647: ConvergenceWarning: Objective did not converge. You might want to increase the number of iterations, check the scale of the features or consider increasing regularisation. Duality gap: 1.273e+01, tolerance: 3.064e-03\n",
            "  model = cd_fast.enet_coordinate_descent(\n",
            "/usr/local/lib/python3.8/dist-packages/sklearn/linear_model/_coordinate_descent.py:647: ConvergenceWarning: Objective did not converge. You might want to increase the number of iterations, check the scale of the features or consider increasing regularisation. Duality gap: 1.289e+01, tolerance: 3.064e-03\n",
            "  model = cd_fast.enet_coordinate_descent(\n",
            "/usr/local/lib/python3.8/dist-packages/sklearn/linear_model/_coordinate_descent.py:647: ConvergenceWarning: Objective did not converge. You might want to increase the number of iterations, check the scale of the features or consider increasing regularisation. Duality gap: 3.605e+00, tolerance: 3.064e-03\n",
            "  model = cd_fast.enet_coordinate_descent(\n",
            "/usr/local/lib/python3.8/dist-packages/sklearn/linear_model/_coordinate_descent.py:647: ConvergenceWarning: Objective did not converge. You might want to increase the number of iterations, check the scale of the features or consider increasing regularisation. Duality gap: 1.214e+01, tolerance: 3.064e-03\n",
            "  model = cd_fast.enet_coordinate_descent(\n",
            "/usr/local/lib/python3.8/dist-packages/sklearn/linear_model/_coordinate_descent.py:647: ConvergenceWarning: Objective did not converge. You might want to increase the number of iterations, check the scale of the features or consider increasing regularisation. Duality gap: 1.364e-02, tolerance: 3.064e-03\n",
            "  model = cd_fast.enet_coordinate_descent(\n",
            "/usr/local/lib/python3.8/dist-packages/sklearn/linear_model/_coordinate_descent.py:647: ConvergenceWarning: Objective did not converge. You might want to increase the number of iterations, check the scale of the features or consider increasing regularisation. Duality gap: 9.948e-03, tolerance: 3.064e-03\n",
            "  model = cd_fast.enet_coordinate_descent(\n",
            "/usr/local/lib/python3.8/dist-packages/sklearn/linear_model/_coordinate_descent.py:647: ConvergenceWarning: Objective did not converge. You might want to increase the number of iterations, check the scale of the features or consider increasing regularisation. Duality gap: 1.811e+01, tolerance: 4.212e-03\n",
            "  model = cd_fast.enet_coordinate_descent(\n",
            "/usr/local/lib/python3.8/dist-packages/sklearn/linear_model/_coordinate_descent.py:647: ConvergenceWarning: Objective did not converge. You might want to increase the number of iterations, check the scale of the features or consider increasing regularisation. Duality gap: 1.714e+01, tolerance: 4.212e-03\n",
            "  model = cd_fast.enet_coordinate_descent(\n",
            "/usr/local/lib/python3.8/dist-packages/sklearn/linear_model/_coordinate_descent.py:647: ConvergenceWarning: Objective did not converge. You might want to increase the number of iterations, check the scale of the features or consider increasing regularisation. Duality gap: 2.760e+01, tolerance: 6.092e-03\n",
            "  model = cd_fast.enet_coordinate_descent(\n",
            "/usr/local/lib/python3.8/dist-packages/sklearn/linear_model/_coordinate_descent.py:647: ConvergenceWarning: Objective did not converge. You might want to increase the number of iterations, check the scale of the features or consider increasing regularisation. Duality gap: 2.777e+01, tolerance: 6.092e-03\n",
            "  model = cd_fast.enet_coordinate_descent(\n",
            "/usr/local/lib/python3.8/dist-packages/sklearn/linear_model/_coordinate_descent.py:647: ConvergenceWarning: Objective did not converge. You might want to increase the number of iterations, check the scale of the features or consider increasing regularisation. Duality gap: 2.554e+01, tolerance: 6.092e-03\n",
            "  model = cd_fast.enet_coordinate_descent(\n",
            "/usr/local/lib/python3.8/dist-packages/sklearn/linear_model/_coordinate_descent.py:647: ConvergenceWarning: Objective did not converge. You might want to increase the number of iterations, check the scale of the features or consider increasing regularisation. Duality gap: 1.693e-02, tolerance: 6.092e-03\n",
            "  model = cd_fast.enet_coordinate_descent(\n",
            "/usr/local/lib/python3.8/dist-packages/sklearn/linear_model/_coordinate_descent.py:647: ConvergenceWarning: Objective did not converge. You might want to increase the number of iterations, check the scale of the features or consider increasing regularisation. Duality gap: 4.126e+01, tolerance: 9.082e-03\n",
            "  model = cd_fast.enet_coordinate_descent(\n",
            "/usr/local/lib/python3.8/dist-packages/sklearn/linear_model/_coordinate_descent.py:647: ConvergenceWarning: Objective did not converge. You might want to increase the number of iterations, check the scale of the features or consider increasing regularisation. Duality gap: 4.146e+01, tolerance: 9.082e-03\n",
            "  model = cd_fast.enet_coordinate_descent(\n",
            "/usr/local/lib/python3.8/dist-packages/sklearn/linear_model/_coordinate_descent.py:647: ConvergenceWarning: Objective did not converge. You might want to increase the number of iterations, check the scale of the features or consider increasing regularisation. Duality gap: 3.795e+01, tolerance: 9.082e-03\n",
            "  model = cd_fast.enet_coordinate_descent(\n"
          ]
        }
      ]
    },
    {
      "cell_type": "markdown",
      "source": [
        "#### Modelos reentrenados en ventanas"
      ],
      "metadata": {
        "id": "3dKMe41KpHsE"
      }
    },
    {
      "cell_type": "code",
      "source": [
        "'''\n",
        "\n",
        "duracion_train = 1000\n",
        "duracion_test = 500\n",
        "\n",
        "s_tr = 0\n",
        "e_tr = duracion_train\n",
        "s_te = duracion_train\n",
        "e_te = duracion_train + duracion_test\n",
        "full_y_test = df.iloc[s_te:len(df), -1].astype('float64')\n",
        "full_y_pred_rl = np.array([])\n",
        "full_y_pred_rf = np.array([])\n",
        "full_y_pred_knn = np.array([])\n",
        "correlations_target = pd.DataFrame(columns=['variable', 'correlacion', 'algoritmo'])\n",
        "\n",
        "while e_te <= len(df):\n",
        "  print('Empieza ciclo de entrenamiento entre índices', s_tr, 'y', e_tr - 1, 'y testeo entre índices', s_te, 'y', e_te)\n",
        "  X_train = df.iloc[s_tr:e_tr, 7:-1].astype('float64')\n",
        "  y_train = df.iloc[s_tr:e_tr:, -1].astype('float64')\n",
        "  X_test = df.iloc[s_te:e_te, 7:-1]\n",
        "  y_test = df.iloc[s_te:e_te, -1]\n",
        "\n",
        "  # Regresión\n",
        "  print(' Start ajuste Regresión LASSO')\n",
        "  param_dict_rl = {\n",
        "      #\"pca__n_components\":['mle', 5, 20],\n",
        "      \"lasso__alpha\":[0.001, 0.01, 0.1, 1.5, 4]\n",
        "      }\n",
        "  pipe_rl = Pipeline(steps=[\n",
        "      ('impute', SimpleImputer(strategy='median')),\n",
        "      ('scale', MinMaxScaler()),\n",
        "      #('pca', PCA()),\n",
        "      ('lasso', Lasso())\n",
        "  ])\n",
        "\n",
        "  estimator_rl = GridSearchCV(pipe_rl, param_dict_rl, verbose=0).fit(X_train, y_train)\n",
        "  y_pred_rl = estimator_rl.predict(X_test)\n",
        "  full_y_pred_rl = np.append(full_y_pred_rl, y_pred_rl)\n",
        "  for col in X_test.columns:\n",
        "    try:\n",
        "      correlations_target.loc[len(correlations_target)] = [col, pearsonr(X_test[col], y_pred_rl)[0], 'Regresión Lasso']\n",
        "    except:\n",
        "      pass\n",
        "\n",
        "  # KNN\n",
        "  print(' Start ajuste KNN')\n",
        "  param_dict_knn = {\n",
        "      #\"pca__n_components\":['mle', 5, 20],\n",
        "      \"knn__n_neighbors\":[2, 5, 8, 12, 20]\n",
        "      }\n",
        "  pipe_knn = Pipeline(steps=[\n",
        "      ('impute', SimpleImputer(strategy='median')),\n",
        "      ('scale', MinMaxScaler()),\n",
        "      #('pca', PCA()),\n",
        "      ('knn', KNeighborsRegressor())\n",
        "  ])\n",
        "\n",
        "  estimator_knn = GridSearchCV(pipe_knn, param_dict_knn, verbose=0).fit(X_train, y_train)\n",
        "  y_pred_knn = estimator_knn.predict(X_test)\n",
        "  full_y_pred_knn = np.append(full_y_pred_knn, y_pred_knn)\n",
        "  for col in X_test.columns:\n",
        "    try:\n",
        "      correlations_target.loc[len(correlations_target)] = [col, pearsonr(X_test[col], y_pred_knn)[0], 'KNN']\n",
        "    except:\n",
        "      pass\n",
        "\n",
        "  # Random forest\n",
        "  print(' Start ajuste Random Forest')\n",
        "  param_dict_rf = {\n",
        "      #\"pca__n_components\":['mle', 5, 20],\n",
        "      \"forest__n_estimators\":[5, 20, 40]\n",
        "      }\n",
        "  pipe_rf = Pipeline(steps=[\n",
        "      ('impute', SimpleImputer(strategy='median')),\n",
        "      ('scale', MinMaxScaler()),\n",
        "      #('pca', PCA()),\n",
        "      ('forest', RandomForestRegressor())\n",
        "  ])\n",
        "\n",
        "  estimator_rf = GridSearchCV(pipe_rf, param_dict_rf, verbose=0).fit(X_train, y_train)\n",
        "  y_pred_rf = estimator_rf.predict(X_test)\n",
        "  full_y_pred_rf = np.append(full_y_pred_rf, y_pred_rf)\n",
        "  for col in X_test.columns:\n",
        "    try:\n",
        "      correlations_target.loc[len(correlations_target)] = [col, pearsonr(X_test[col], y_pred_rf)[0], 'Random Forest']\n",
        "    except:\n",
        "      pass\n",
        "\n",
        "  #print('Appendie y ahora la longitud de full_y_pred es de', len(full_y_pred))\n",
        "  e_tr = e_te\n",
        "  s_tr = e_tr - duracion_train\n",
        "  s_te = e_te\n",
        "\n",
        "  if e_te == len(df):\n",
        "    print('Fin!')\n",
        "    break\n",
        "  else:\n",
        "    e_te = e_te + duracion_test\n",
        "\n",
        "  if e_te > len(df):\n",
        "    e_te = len(df)\n",
        "  else:\n",
        "    pass\n",
        "\n",
        "import seaborn as sns\n",
        "sns.set(rc={'figure.figsize':(181.7,31.27)})\n",
        "sns.boxplot(x='variable', y='correlacion', data=correlations_target, hue=\"algoritmo\")\n",
        "\n",
        "testeo = pd.DataFrame({'test':np.array(full_y_test), \n",
        "                       'pred_rf':full_y_pred_rf,\n",
        "                       'pred_rl':full_y_pred_rl,\n",
        "                       'pred_knn':full_y_pred_knn\n",
        "                       })\n",
        "\n",
        "testeo['rango_min'] = -0.15 # testeo[['pred_rf','pred_rl','pred_knn']].max(axis=1) * (-1) - testeo[['pred_rf','pred_rl','pred_knn']].std(axis=1)\n",
        "testeo['rango_max'] = 0.15 # testeo[['pred_rf','pred_rl','pred_knn']].max(axis=1) + testeo[['pred_rf','pred_rl','pred_knn']].std(axis=1)\n",
        "testeo['entre_ambas'] = np.where((testeo['test'] < testeo['rango_max'])&(testeo['test'] > testeo['rango_min']), 1, 0)\n",
        "print('Rango promedio:', round((testeo['rango_max'] - testeo['rango_min']).mean(),2))\n",
        "print('Porcentaje de aciertos:', round(testeo.entre_ambas.mean(),2))\n",
        "'''"
      ],
      "metadata": {
        "id": "HvS6pA-0JoOx",
        "colab": {
          "base_uri": "https://localhost:8080/"
        },
        "outputId": "6e3de298-03c1-4cba-84e5-67d2cdde65c8"
      },
      "execution_count": null,
      "outputs": [
        {
          "output_type": "execute_result",
          "data": {
            "text/plain": [
              "'\\n\\nduracion_train = 1000\\nduracion_test = 500\\n\\ns_tr = 0\\ne_tr = duracion_train\\ns_te = duracion_train\\ne_te = duracion_train + duracion_test\\nfull_y_test = df.iloc[s_te:len(df), -1].astype(\\'float64\\')\\nfull_y_pred_rl = np.array([])\\nfull_y_pred_rf = np.array([])\\nfull_y_pred_knn = np.array([])\\ncorrelations_target = pd.DataFrame(columns=[\\'variable\\', \\'correlacion\\', \\'algoritmo\\'])\\n\\nwhile e_te <= len(df):\\n  print(\\'Empieza ciclo de entrenamiento entre índices\\', s_tr, \\'y\\', e_tr - 1, \\'y testeo entre índices\\', s_te, \\'y\\', e_te)\\n  X_train = df.iloc[s_tr:e_tr, 7:-1].astype(\\'float64\\')\\n  y_train = df.iloc[s_tr:e_tr:, -1].astype(\\'float64\\')\\n  X_test = df.iloc[s_te:e_te, 7:-1]\\n  y_test = df.iloc[s_te:e_te, -1]\\n\\n  # Regresión\\n  print(\\' Start ajuste Regresión LASSO\\')\\n  param_dict_rl = {\\n      #\"pca__n_components\":[\\'mle\\', 5, 20],\\n      \"lasso__alpha\":[0.001, 0.01, 0.1, 1.5, 4]\\n      }\\n  pipe_rl = Pipeline(steps=[\\n      (\\'impute\\', SimpleImputer(strategy=\\'median\\')),\\n      (\\'scale\\', MinMaxScaler()),\\n      #(\\'pca\\', PCA()),\\n      (\\'lasso\\', Lasso())\\n  ])\\n\\n  estimator_rl = GridSearchCV(pipe_rl, param_dict_rl, verbose=0).fit(X_train, y_train)\\n  y_pred_rl = estimator_rl.predict(X_test)\\n  full_y_pred_rl = np.append(full_y_pred_rl, y_pred_rl)\\n  for col in X_test.columns:\\n    try:\\n      correlations_target.loc[len(correlations_target)] = [col, pearsonr(X_test[col], y_pred_rl)[0], \\'Regresión Lasso\\']\\n    except:\\n      pass\\n\\n  # KNN\\n  print(\\' Start ajuste KNN\\')\\n  param_dict_knn = {\\n      #\"pca__n_components\":[\\'mle\\', 5, 20],\\n      \"knn__n_neighbors\":[2, 5, 8, 12, 20]\\n      }\\n  pipe_knn = Pipeline(steps=[\\n      (\\'impute\\', SimpleImputer(strategy=\\'median\\')),\\n      (\\'scale\\', MinMaxScaler()),\\n      #(\\'pca\\', PCA()),\\n      (\\'knn\\', KNeighborsRegressor())\\n  ])\\n\\n  estimator_knn = GridSearchCV(pipe_knn, param_dict_knn, verbose=0).fit(X_train, y_train)\\n  y_pred_knn = estimator_knn.predict(X_test)\\n  full_y_pred_knn = np.append(full_y_pred_knn, y_pred_knn)\\n  for col in X_test.columns:\\n    try:\\n      correlations_target.loc[len(correlations_target)] = [col, pearsonr(X_test[col], y_pred_knn)[0], \\'KNN\\']\\n    except:\\n      pass\\n\\n  # Random forest\\n  print(\\' Start ajuste Random Forest\\')\\n  param_dict_rf = {\\n      #\"pca__n_components\":[\\'mle\\', 5, 20],\\n      \"forest__n_estimators\":[5, 20, 40]\\n      }\\n  pipe_rf = Pipeline(steps=[\\n      (\\'impute\\', SimpleImputer(strategy=\\'median\\')),\\n      (\\'scale\\', MinMaxScaler()),\\n      #(\\'pca\\', PCA()),\\n      (\\'forest\\', RandomForestRegressor())\\n  ])\\n\\n  estimator_rf = GridSearchCV(pipe_rf, param_dict_rf, verbose=0).fit(X_train, y_train)\\n  y_pred_rf = estimator_rf.predict(X_test)\\n  full_y_pred_rf = np.append(full_y_pred_rf, y_pred_rf)\\n  for col in X_test.columns:\\n    try:\\n      correlations_target.loc[len(correlations_target)] = [col, pearsonr(X_test[col], y_pred_rf)[0], \\'Random Forest\\']\\n    except:\\n      pass\\n\\n  #print(\\'Appendie y ahora la longitud de full_y_pred es de\\', len(full_y_pred))\\n  e_tr = e_te\\n  s_tr = e_tr - duracion_train\\n  s_te = e_te\\n\\n  if e_te == len(df):\\n    print(\\'Fin!\\')\\n    break\\n  else:\\n    e_te = e_te + duracion_test\\n\\n  if e_te > len(df):\\n    e_te = len(df)\\n  else:\\n    pass\\n\\nimport seaborn as sns\\nsns.set(rc={\\'figure.figsize\\':(181.7,31.27)})\\nsns.boxplot(x=\\'variable\\', y=\\'correlacion\\', data=correlations_target, hue=\"algoritmo\")\\n\\ntesteo = pd.DataFrame({\\'test\\':np.array(full_y_test), \\n                       \\'pred_rf\\':full_y_pred_rf,\\n                       \\'pred_rl\\':full_y_pred_rl,\\n                       \\'pred_knn\\':full_y_pred_knn\\n                       })\\n\\ntesteo[\\'rango_min\\'] = -0.15 # testeo[[\\'pred_rf\\',\\'pred_rl\\',\\'pred_knn\\']].max(axis=1) * (-1) - testeo[[\\'pred_rf\\',\\'pred_rl\\',\\'pred_knn\\']].std(axis=1)\\ntesteo[\\'rango_max\\'] = 0.15 # testeo[[\\'pred_rf\\',\\'pred_rl\\',\\'pred_knn\\']].max(axis=1) + testeo[[\\'pred_rf\\',\\'pred_rl\\',\\'pred_knn\\']].std(axis=1)\\ntesteo[\\'entre_ambas\\'] = np.where((testeo[\\'test\\'] < testeo[\\'rango_max\\'])&(testeo[\\'test\\'] > testeo[\\'rango_min\\']), 1, 0)\\nprint(\\'Rango promedio:\\', round((testeo[\\'rango_max\\'] - testeo[\\'rango_min\\']).mean(),2))\\nprint(\\'Porcentaje de aciertos:\\', round(testeo.entre_ambas.mean(),2))\\n'"
            ],
            "application/vnd.google.colaboratory.intrinsic+json": {
              "type": "string"
            }
          },
          "metadata": {},
          "execution_count": 14
        }
      ]
    },
    {
      "cell_type": "markdown",
      "source": [
        "#### Un solo modelo: Comparación de modelos"
      ],
      "metadata": {
        "id": "L583CaKqY0ie"
      }
    },
    {
      "cell_type": "code",
      "source": [
        "models = [LinearRegression(),\n",
        "          XGBRegressor(),\n",
        "          KernelRidge(),\n",
        "          ElasticNet(),\n",
        "          BayesianRidge(),\n",
        "          GradientBoostingRegressor(),\n",
        "          SVR()\n",
        "          ]\n",
        "\n",
        "for model in models:\n",
        "  df['target'] = df.Close.shift(-7)/df.Close - 1\n",
        "  df = df.iloc[0:-7,:]\n",
        "  oos = df[df.Date.isin(df.sample(400)['Date'])].copy()\n",
        "  oos['oos'] = 'random'\n",
        "  df_dev = df[~df.Date.isin(oos.Date)].copy()\n",
        "\n",
        "  # Modelo de variación porcentual\n",
        "  X_train = df_dev[[col for col in df_dev.iloc[:, 7:-1] if col.startswith('v') is False]]\n",
        "  y_train = df_dev['target']\n",
        "  X_oos = oos[[col for col in oos.iloc[:, 7:-2] if col.startswith('v') is False]]\n",
        "  y_oos = oos['target']\n",
        "  X_train = X_train.fillna(X_train.median())\n",
        "  X_oos = X_oos.fillna(X_oos.median())\n",
        "  regr = model.fit(X_train, y_train)\n",
        "  oos['prediction_porcentual'] = regr.predict(X_oos)\n",
        "\n",
        "  # Modelo de variación absoluta\n",
        "  X_train = df_dev[[col for col in df_dev.iloc[:, 7:-1] if col.startswith('v') is True]]\n",
        "  y_train = abs(df_dev['target'])\n",
        "  X_oos = oos[[col for col in oos.iloc[:, 7:-1] if col.startswith('v') is True]]\n",
        "  y_oos = abs(oos['target'])\n",
        "  X_train = X_train.fillna(X_train.median())\n",
        "  X_oos = X_oos.fillna(X_oos.median())\n",
        "  regr = model.fit(X_train, y_train)\n",
        "\n",
        "  oos['target_abs'] = abs(oos['target'])\n",
        "  oos['prediction_absolute'] = regr.predict(X_oos)\n",
        "  oos['rango_min'] = oos['prediction_porcentual'] - oos['prediction_absolute'] * 1.25\n",
        "  oos['rango_max'] = oos['prediction_porcentual'] + oos['prediction_absolute'] * 1.25\n",
        "  oos['rango_total'] = oos['rango_max'] - oos['rango_min']\n",
        "  rango_tipico = oos['rango_total'].mean()/2\n",
        "\n",
        "  aciertos = round(np.where((oos['target'] > oos['rango_min'])&(oos['target'] < oos['rango_max']), 1, 0).mean(), 2)\n",
        "  aciertos_naive = round(np.where((oos['target'] > -rango_tipico)&(oos['target'] < rango_tipico), 1, 0).mean(), 2)\n",
        "  print('Usando el modelo', model, 'Los aciertos fueron ', aciertos, '. Si en cambio se hubiera asignado invariablemente a todas las observaciones el mismo rango,', round(rango_tipico, 3), 'los aciertos hubieran sido ', aciertos_naive)"
      ],
      "metadata": {
        "colab": {
          "base_uri": "https://localhost:8080/"
        },
        "id": "JsFjb08IYoO1",
        "outputId": "da818b15-d8ac-4fe6-ffdc-793488736eb3"
      },
      "execution_count": null,
      "outputs": [
        {
          "output_type": "stream",
          "name": "stdout",
          "text": [
            "Usando el modelo LinearRegression() Los aciertos fueron  0.7 . Si en cambio se hubiera asignado invariablemente a todas las observaciones el mismo rango, 0.09 los aciertos hubieran sido  0.72\n",
            "[19:03:42] WARNING: /workspace/src/objective/regression_obj.cu:152: reg:linear is now deprecated in favor of reg:squarederror.\n",
            "[19:03:45] WARNING: /workspace/src/objective/regression_obj.cu:152: reg:linear is now deprecated in favor of reg:squarederror.\n",
            "Usando el modelo XGBRegressor() Los aciertos fueron  0.79 . Si en cambio se hubiera asignado invariablemente a todas las observaciones el mismo rango, 0.085 los aciertos hubieran sido  0.78\n"
          ]
        },
        {
          "output_type": "stream",
          "name": "stderr",
          "text": [
            "/usr/local/lib/python3.8/dist-packages/sklearn/linear_model/_ridge.py:196: UserWarning: Singular matrix in solving dual problem. Using least-squares solution instead.\n",
            "  warnings.warn(\n"
          ]
        },
        {
          "output_type": "stream",
          "name": "stdout",
          "text": [
            "Usando el modelo KernelRidge() Los aciertos fueron  0.68 . Si en cambio se hubiera asignado invariablemente a todas las observaciones el mismo rango, 0.078 los aciertos hubieran sido  0.7\n",
            "Usando el modelo ElasticNet() Los aciertos fueron  0.72 . Si en cambio se hubiera asignado invariablemente a todas las observaciones el mismo rango, 0.088 los aciertos hubieran sido  0.71\n",
            "Usando el modelo BayesianRidge() Los aciertos fueron  0.7 . Si en cambio se hubiera asignado invariablemente a todas las observaciones el mismo rango, 0.089 los aciertos hubieran sido  0.72\n",
            "Usando el modelo GradientBoostingRegressor() Los aciertos fueron  0.76 . Si en cambio se hubiera asignado invariablemente a todas las observaciones el mismo rango, 0.088 los aciertos hubieran sido  0.73\n",
            "Usando el modelo SVR() Los aciertos fueron  0.89 . Si en cambio se hubiera asignado invariablemente a todas las observaciones el mismo rango, 0.132 los aciertos hubieran sido  0.86\n"
          ]
        }
      ]
    },
    {
      "cell_type": "markdown",
      "source": [
        "#### Un solo modelo: SVR"
      ],
      "metadata": {
        "id": "b6w1-H2lFI4N"
      }
    },
    {
      "cell_type": "code",
      "source": [
        "df['target'] = df.Close.shift(-7)/df.Close - 1\n",
        "X_train_pc = df_dev[[col for col in df_dev.iloc[:, 7:-1] if col.startswith('v') is False]]\n",
        "y_train_pc = df_dev['target']\n",
        "X_train_abs = df_dev[[col for col in df_dev.iloc[:, 7:-1] if col.startswith('v') is True]]\n",
        "y_train_abs = abs(df_dev['target'])\n",
        "\n",
        "param_dict_svr = {\n",
        "    \"impute__strategy\":['mean', 'median', 'most_frequent'],\n",
        "    \"pca__n_components\":['None', 5, 20, 'mle'],\n",
        "    \"svr__gamma\":['scale', 'auto'],\n",
        "    \"svr__C\":[0.01, 0.1, 0.5, 1, 1.5, 5]\n",
        "    }\n",
        "\n",
        "pipe_svr = Pipeline(steps=[\n",
        "    ('impute', SimpleImputer(strategy='median')),\n",
        "    ('scale', MinMaxScaler()),\n",
        "    ('pca', PCA()),\n",
        "    ('svr', SVR())\n",
        "])\n",
        "\n",
        "estimator_svr_pc = GridSearchCV(pipe_svr, param_dict_svr, verbose=0).fit(X_train_pc, y_train_pc)\n",
        "estimator_svr_abs = GridSearchCV(pipe_svr, param_dict_svr, verbose=0).fit(X_train_abs, y_train_abs)\n",
        "oos['prediction_porcentual'] = estimator_svr_pc.predict(oos[[col for col in oos.iloc[:, 7:list(oos.columns).index('chart_dist_a_soporte_20')+1] if col.startswith('v') is False]])\n",
        "oos['target_abs'] = abs(oos['target'])\n",
        "oos['prediction_absolute'] = estimator_svr_abs.predict(oos[[col for col in oos.iloc[:, 7:list(oos.columns).index('chart_dist_a_soporte_20')+1] if col.startswith('v') is True]])\n",
        "oos['rango_min'] = oos['prediction_porcentual'] - oos['prediction_absolute'] * 1.5\n",
        "oos['rango_max'] = oos['prediction_porcentual'] + oos['prediction_absolute'] * 1.5\n",
        "oos['rango_total'] = oos['rango_max'] - oos['rango_min']\n",
        "rango_tipico = oos['rango_total'].mean()/2\n",
        "aciertos = round(np.where((oos['target'] > oos['rango_min'])&(oos['target'] < oos['rango_max']), 1, 0).mean(), 2)\n",
        "aciertos_naive = round(np.where((oos['target'] > -rango_tipico)&(oos['target'] < rango_tipico), 1, 0).mean(), 2)\n",
        "print('Usando el modelo', model, 'Los aciertos fueron ', aciertos, '. Si en cambio se hubiera asignado invariablemente a todas las observaciones el mismo rango,', round(rango_tipico, 3), 'los aciertos hubieran sido ', aciertos_naive)"
      ],
      "metadata": {
        "id": "gjDK-NG1G7bE"
      },
      "execution_count": null,
      "outputs": []
    },
    {
      "cell_type": "markdown",
      "source": [
        "### Predicción"
      ],
      "metadata": {
        "id": "PvzLiviuSSLF"
      }
    },
    {
      "cell_type": "code",
      "source": [
        "last_20 = df.tail(120).reset_index(drop=True)\n",
        "last_20['prediction_porcentual'] = estimator_svr_pc.predict(last_20[[col for col in last_20.iloc[:, 7:list(last_20.columns).index('chart_dist_a_soporte_20')+1] if col.startswith('v') is False]])\n",
        "last_20['prediction_absolute'] = estimator_svr_abs.predict(last_20[[col for col in last_20.iloc[:, 7:list(last_20.columns).index('chart_dist_a_soporte_20')+1] if col.startswith('v') is True]])\n",
        "last_20['prediction_min'] = last_20['prediction_porcentual'] - last_20['prediction_absolute'] * 1.1\n",
        "last_20['prediction_max'] = last_20['prediction_porcentual'] + last_20['prediction_absolute'] * 1.1\n",
        "last_20['plot_price'] = last_20.Close\n",
        "last_20['plot_price_predicho'] = last_20.Close.shift(7) * (1 + last_20.prediction_porcentual.shift(7))\n",
        "last_20['plot_price_min'] = last_20.Close.shift(7) * (1 + last_20.prediction_min)\n",
        "last_20['plot_price_max'] = last_20.Close.shift(7) * (1 + last_20.prediction_max)\n",
        "#last_20 = last_20[['Date', 'plot_price', 'plot_price_predicho', 'plot_price_min', 'plot_price_max']].dropna()\n",
        "figure(figsize=(19, 6), dpi=80)\n",
        "plt.plot(last_20['Date'], last_20['plot_price'], label = \"Precio real\")\n",
        "plt.plot(last_20['Date'], last_20['plot_price_min'], label = \"Banda inferior\")\n",
        "plt.plot(last_20['Date'], last_20['plot_price_max'], label = \"Banda superior\")\n",
        "plt.plot(last_20['Date'], last_20['plot_price_predicho'], label = \"Precio predicho\")\n",
        "plt.legend()\n",
        "plt.show()\n"
      ],
      "metadata": {
        "colab": {
          "base_uri": "https://localhost:8080/",
          "height": 413
        },
        "id": "mdPg0y2IPfeG",
        "outputId": "86029cf7-11d2-4650-e47f-42e6acc3719d"
      },
      "execution_count": null,
      "outputs": [
        {
          "output_type": "display_data",
          "data": {
            "text/plain": [
              "<Figure size 1520x480 with 1 Axes>"
            ],
            "image/png": "[encoded data removed]"
          },
          "metadata": {
            "needs_background": "light"
          }
        }
      ]
    },
    {
      "cell_type": "code",
      "source": [
        "pred = round(last_20.tail(1)['Close'].values[0] * (1 + last_20.tail(1)['prediction_porcentual'].values[0]), 2)\n",
        "min = round(last_20.tail(1)['Close'].values[0] * (1 - last_20.tail(1)['prediction_absolute'].values[0]), 2)\n",
        "max = round(last_20.tail(1)['Close'].values[0] * (1 + last_20.tail(1)['prediction_absolute'].values[0]), 2)\n",
        "print('El precio predicho para las próximas 7 ruedas es de', pred, 'con un mínimo predicho de', min, 'y un máximo predicho de', max)"
      ],
      "metadata": {
        "colab": {
          "base_uri": "https://localhost:8080/"
        },
        "id": "Xr-iSJaoUykJ",
        "outputId": "c8475f97-5594-4d76-d89f-43229b87b68f"
      },
      "execution_count": null,
      "outputs": [
        {
          "output_type": "stream",
          "name": "stdout",
          "text": [
            "El precio predicho para las próximas 7 ruedas es de 304.2 con un mínimo predicho de 264.27 y un máximo predicho de 332.43\n"
          ]
        }
      ]
    }
  ]
}